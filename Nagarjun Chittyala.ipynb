{
 "cells": [
  {
   "cell_type": "code",
   "execution_count": 1,
   "metadata": {},
   "outputs": [],
   "source": [
    "# importing required packages\n",
    "import pandas as pd, numpy as np\n",
    "import matplotlib.pyplot as plt\n",
    "import warnings\n",
    "import seaborn as sns\n",
    "\n",
    "warnings.filterwarnings('ignore')"
   ]
  },
  {
   "cell_type": "code",
   "execution_count": 2,
   "metadata": {},
   "outputs": [
    {
     "data": {
      "text/html": [
       "<div>\n",
       "<style scoped>\n",
       "    .dataframe tbody tr th:only-of-type {\n",
       "        vertical-align: middle;\n",
       "    }\n",
       "\n",
       "    .dataframe tbody tr th {\n",
       "        vertical-align: top;\n",
       "    }\n",
       "\n",
       "    .dataframe thead th {\n",
       "        text-align: right;\n",
       "    }\n",
       "</style>\n",
       "<table border=\"1\" class=\"dataframe\">\n",
       "  <thead>\n",
       "    <tr style=\"text-align: right;\">\n",
       "      <th></th>\n",
       "      <th>id</th>\n",
       "      <th>member_id</th>\n",
       "      <th>loan_amnt</th>\n",
       "      <th>funded_amnt</th>\n",
       "      <th>funded_amnt_inv</th>\n",
       "      <th>term</th>\n",
       "      <th>int_rate</th>\n",
       "      <th>installment</th>\n",
       "      <th>grade</th>\n",
       "      <th>sub_grade</th>\n",
       "      <th>...</th>\n",
       "      <th>num_tl_90g_dpd_24m</th>\n",
       "      <th>num_tl_op_past_12m</th>\n",
       "      <th>pct_tl_nvr_dlq</th>\n",
       "      <th>percent_bc_gt_75</th>\n",
       "      <th>pub_rec_bankruptcies</th>\n",
       "      <th>tax_liens</th>\n",
       "      <th>tot_hi_cred_lim</th>\n",
       "      <th>total_bal_ex_mort</th>\n",
       "      <th>total_bc_limit</th>\n",
       "      <th>total_il_high_credit_limit</th>\n",
       "    </tr>\n",
       "  </thead>\n",
       "  <tbody>\n",
       "    <tr>\n",
       "      <th>0</th>\n",
       "      <td>1077501</td>\n",
       "      <td>1296599</td>\n",
       "      <td>5000</td>\n",
       "      <td>5000</td>\n",
       "      <td>4975.0</td>\n",
       "      <td>36 months</td>\n",
       "      <td>10.65%</td>\n",
       "      <td>162.87</td>\n",
       "      <td>B</td>\n",
       "      <td>B2</td>\n",
       "      <td>...</td>\n",
       "      <td>NaN</td>\n",
       "      <td>NaN</td>\n",
       "      <td>NaN</td>\n",
       "      <td>NaN</td>\n",
       "      <td>0.0</td>\n",
       "      <td>0.0</td>\n",
       "      <td>NaN</td>\n",
       "      <td>NaN</td>\n",
       "      <td>NaN</td>\n",
       "      <td>NaN</td>\n",
       "    </tr>\n",
       "    <tr>\n",
       "      <th>1</th>\n",
       "      <td>1077430</td>\n",
       "      <td>1314167</td>\n",
       "      <td>2500</td>\n",
       "      <td>2500</td>\n",
       "      <td>2500.0</td>\n",
       "      <td>60 months</td>\n",
       "      <td>15.27%</td>\n",
       "      <td>59.83</td>\n",
       "      <td>C</td>\n",
       "      <td>C4</td>\n",
       "      <td>...</td>\n",
       "      <td>NaN</td>\n",
       "      <td>NaN</td>\n",
       "      <td>NaN</td>\n",
       "      <td>NaN</td>\n",
       "      <td>0.0</td>\n",
       "      <td>0.0</td>\n",
       "      <td>NaN</td>\n",
       "      <td>NaN</td>\n",
       "      <td>NaN</td>\n",
       "      <td>NaN</td>\n",
       "    </tr>\n",
       "    <tr>\n",
       "      <th>2</th>\n",
       "      <td>1077175</td>\n",
       "      <td>1313524</td>\n",
       "      <td>2400</td>\n",
       "      <td>2400</td>\n",
       "      <td>2400.0</td>\n",
       "      <td>36 months</td>\n",
       "      <td>15.96%</td>\n",
       "      <td>84.33</td>\n",
       "      <td>C</td>\n",
       "      <td>C5</td>\n",
       "      <td>...</td>\n",
       "      <td>NaN</td>\n",
       "      <td>NaN</td>\n",
       "      <td>NaN</td>\n",
       "      <td>NaN</td>\n",
       "      <td>0.0</td>\n",
       "      <td>0.0</td>\n",
       "      <td>NaN</td>\n",
       "      <td>NaN</td>\n",
       "      <td>NaN</td>\n",
       "      <td>NaN</td>\n",
       "    </tr>\n",
       "    <tr>\n",
       "      <th>3</th>\n",
       "      <td>1076863</td>\n",
       "      <td>1277178</td>\n",
       "      <td>10000</td>\n",
       "      <td>10000</td>\n",
       "      <td>10000.0</td>\n",
       "      <td>36 months</td>\n",
       "      <td>13.49%</td>\n",
       "      <td>339.31</td>\n",
       "      <td>C</td>\n",
       "      <td>C1</td>\n",
       "      <td>...</td>\n",
       "      <td>NaN</td>\n",
       "      <td>NaN</td>\n",
       "      <td>NaN</td>\n",
       "      <td>NaN</td>\n",
       "      <td>0.0</td>\n",
       "      <td>0.0</td>\n",
       "      <td>NaN</td>\n",
       "      <td>NaN</td>\n",
       "      <td>NaN</td>\n",
       "      <td>NaN</td>\n",
       "    </tr>\n",
       "    <tr>\n",
       "      <th>4</th>\n",
       "      <td>1075358</td>\n",
       "      <td>1311748</td>\n",
       "      <td>3000</td>\n",
       "      <td>3000</td>\n",
       "      <td>3000.0</td>\n",
       "      <td>60 months</td>\n",
       "      <td>12.69%</td>\n",
       "      <td>67.79</td>\n",
       "      <td>B</td>\n",
       "      <td>B5</td>\n",
       "      <td>...</td>\n",
       "      <td>NaN</td>\n",
       "      <td>NaN</td>\n",
       "      <td>NaN</td>\n",
       "      <td>NaN</td>\n",
       "      <td>0.0</td>\n",
       "      <td>0.0</td>\n",
       "      <td>NaN</td>\n",
       "      <td>NaN</td>\n",
       "      <td>NaN</td>\n",
       "      <td>NaN</td>\n",
       "    </tr>\n",
       "  </tbody>\n",
       "</table>\n",
       "<p>5 rows × 111 columns</p>\n",
       "</div>"
      ],
      "text/plain": [
       "        id  member_id  loan_amnt  funded_amnt  funded_amnt_inv        term  \\\n",
       "0  1077501    1296599       5000         5000           4975.0   36 months   \n",
       "1  1077430    1314167       2500         2500           2500.0   60 months   \n",
       "2  1077175    1313524       2400         2400           2400.0   36 months   \n",
       "3  1076863    1277178      10000        10000          10000.0   36 months   \n",
       "4  1075358    1311748       3000         3000           3000.0   60 months   \n",
       "\n",
       "  int_rate  installment grade sub_grade  ... num_tl_90g_dpd_24m  \\\n",
       "0   10.65%       162.87     B        B2  ...                NaN   \n",
       "1   15.27%        59.83     C        C4  ...                NaN   \n",
       "2   15.96%        84.33     C        C5  ...                NaN   \n",
       "3   13.49%       339.31     C        C1  ...                NaN   \n",
       "4   12.69%        67.79     B        B5  ...                NaN   \n",
       "\n",
       "  num_tl_op_past_12m pct_tl_nvr_dlq  percent_bc_gt_75 pub_rec_bankruptcies  \\\n",
       "0                NaN            NaN               NaN                  0.0   \n",
       "1                NaN            NaN               NaN                  0.0   \n",
       "2                NaN            NaN               NaN                  0.0   \n",
       "3                NaN            NaN               NaN                  0.0   \n",
       "4                NaN            NaN               NaN                  0.0   \n",
       "\n",
       "  tax_liens tot_hi_cred_lim total_bal_ex_mort total_bc_limit  \\\n",
       "0       0.0             NaN               NaN            NaN   \n",
       "1       0.0             NaN               NaN            NaN   \n",
       "2       0.0             NaN               NaN            NaN   \n",
       "3       0.0             NaN               NaN            NaN   \n",
       "4       0.0             NaN               NaN            NaN   \n",
       "\n",
       "  total_il_high_credit_limit  \n",
       "0                        NaN  \n",
       "1                        NaN  \n",
       "2                        NaN  \n",
       "3                        NaN  \n",
       "4                        NaN  \n",
       "\n",
       "[5 rows x 111 columns]"
      ]
     },
     "execution_count": 2,
     "metadata": {},
     "output_type": "execute_result"
    }
   ],
   "source": [
    "# reading dataset from csv file and storing in df variable\n",
    "df = pd.read_csv('loan.csv')\n",
    "df.head()"
   ]
  },
  {
   "cell_type": "code",
   "execution_count": 3,
   "metadata": {},
   "outputs": [
    {
     "data": {
      "text/plain": [
       "(39717, 111)"
      ]
     },
     "execution_count": 3,
     "metadata": {},
     "output_type": "execute_result"
    }
   ],
   "source": [
    "# checking the number of records in the dataset\n",
    "df.shape"
   ]
  },
  {
   "cell_type": "code",
   "execution_count": 4,
   "metadata": {},
   "outputs": [],
   "source": [
    "# Settings the number of rows to display in output to few all column data\n",
    "# got below code from \"https://stackoverflow.com/questions/58298963/jupyter-not-showing-whole-output\" url\n",
    "pd.set_option('display.max_rows', 200)"
   ]
  },
  {
   "cell_type": "code",
   "execution_count": 5,
   "metadata": {},
   "outputs": [
    {
     "data": {
      "text/plain": [
       "id                                  int64\n",
       "member_id                           int64\n",
       "loan_amnt                           int64\n",
       "funded_amnt                         int64\n",
       "funded_amnt_inv                   float64\n",
       "term                               object\n",
       "int_rate                           object\n",
       "installment                       float64\n",
       "grade                              object\n",
       "sub_grade                          object\n",
       "emp_title                          object\n",
       "emp_length                         object\n",
       "home_ownership                     object\n",
       "annual_inc                        float64\n",
       "verification_status                object\n",
       "issue_d                            object\n",
       "loan_status                        object\n",
       "pymnt_plan                         object\n",
       "url                                object\n",
       "desc                               object\n",
       "purpose                            object\n",
       "title                              object\n",
       "zip_code                           object\n",
       "addr_state                         object\n",
       "dti                               float64\n",
       "delinq_2yrs                         int64\n",
       "earliest_cr_line                   object\n",
       "inq_last_6mths                      int64\n",
       "mths_since_last_delinq            float64\n",
       "mths_since_last_record            float64\n",
       "open_acc                            int64\n",
       "pub_rec                             int64\n",
       "revol_bal                           int64\n",
       "revol_util                         object\n",
       "total_acc                           int64\n",
       "initial_list_status                object\n",
       "out_prncp                         float64\n",
       "out_prncp_inv                     float64\n",
       "total_pymnt                       float64\n",
       "total_pymnt_inv                   float64\n",
       "total_rec_prncp                   float64\n",
       "total_rec_int                     float64\n",
       "total_rec_late_fee                float64\n",
       "recoveries                        float64\n",
       "collection_recovery_fee           float64\n",
       "last_pymnt_d                       object\n",
       "last_pymnt_amnt                   float64\n",
       "next_pymnt_d                       object\n",
       "last_credit_pull_d                 object\n",
       "collections_12_mths_ex_med        float64\n",
       "mths_since_last_major_derog       float64\n",
       "policy_code                         int64\n",
       "application_type                   object\n",
       "annual_inc_joint                  float64\n",
       "dti_joint                         float64\n",
       "verification_status_joint         float64\n",
       "acc_now_delinq                      int64\n",
       "tot_coll_amt                      float64\n",
       "tot_cur_bal                       float64\n",
       "open_acc_6m                       float64\n",
       "open_il_6m                        float64\n",
       "open_il_12m                       float64\n",
       "open_il_24m                       float64\n",
       "mths_since_rcnt_il                float64\n",
       "total_bal_il                      float64\n",
       "il_util                           float64\n",
       "open_rv_12m                       float64\n",
       "open_rv_24m                       float64\n",
       "max_bal_bc                        float64\n",
       "all_util                          float64\n",
       "total_rev_hi_lim                  float64\n",
       "inq_fi                            float64\n",
       "total_cu_tl                       float64\n",
       "inq_last_12m                      float64\n",
       "acc_open_past_24mths              float64\n",
       "avg_cur_bal                       float64\n",
       "bc_open_to_buy                    float64\n",
       "bc_util                           float64\n",
       "chargeoff_within_12_mths          float64\n",
       "delinq_amnt                         int64\n",
       "mo_sin_old_il_acct                float64\n",
       "mo_sin_old_rev_tl_op              float64\n",
       "mo_sin_rcnt_rev_tl_op             float64\n",
       "mo_sin_rcnt_tl                    float64\n",
       "mort_acc                          float64\n",
       "mths_since_recent_bc              float64\n",
       "mths_since_recent_bc_dlq          float64\n",
       "mths_since_recent_inq             float64\n",
       "mths_since_recent_revol_delinq    float64\n",
       "num_accts_ever_120_pd             float64\n",
       "num_actv_bc_tl                    float64\n",
       "num_actv_rev_tl                   float64\n",
       "num_bc_sats                       float64\n",
       "num_bc_tl                         float64\n",
       "num_il_tl                         float64\n",
       "num_op_rev_tl                     float64\n",
       "num_rev_accts                     float64\n",
       "num_rev_tl_bal_gt_0               float64\n",
       "num_sats                          float64\n",
       "num_tl_120dpd_2m                  float64\n",
       "num_tl_30dpd                      float64\n",
       "num_tl_90g_dpd_24m                float64\n",
       "num_tl_op_past_12m                float64\n",
       "pct_tl_nvr_dlq                    float64\n",
       "percent_bc_gt_75                  float64\n",
       "pub_rec_bankruptcies              float64\n",
       "tax_liens                         float64\n",
       "tot_hi_cred_lim                   float64\n",
       "total_bal_ex_mort                 float64\n",
       "total_bc_limit                    float64\n",
       "total_il_high_credit_limit        float64\n",
       "dtype: object"
      ]
     },
     "execution_count": 5,
     "metadata": {},
     "output_type": "execute_result"
    }
   ],
   "source": [
    "# checking the datatypes of the columns in the dataset\n",
    "df.dtypes"
   ]
  },
  {
   "cell_type": "markdown",
   "metadata": {},
   "source": [
    "# Datatype Conversions\n",
    "\n",
    "_Converting the columns data with relevant data type {e.g. converting string date to date format}_"
   ]
  },
  {
   "cell_type": "code",
   "execution_count": 6,
   "metadata": {},
   "outputs": [
    {
     "data": {
      "text/plain": [
       "count      39717\n",
       "unique     39717\n",
       "top       996679\n",
       "freq           1\n",
       "Name: id, dtype: object"
      ]
     },
     "execution_count": 6,
     "metadata": {},
     "output_type": "execute_result"
    }
   ],
   "source": [
    "# ID of the customer is not a numeric value to perform some operation, but a unique value to identify the customer\n",
    "# So, converting id column to String type\n",
    "df.id = df.id.astype(str)\n",
    "df.id.describe()"
   ]
  },
  {
   "cell_type": "code",
   "execution_count": 7,
   "metadata": {},
   "outputs": [
    {
     "data": {
      "text/plain": [
       "count      39717\n",
       "unique     39717\n",
       "top       996679\n",
       "freq           1\n",
       "Name: member_id, dtype: object"
      ]
     },
     "execution_count": 7,
     "metadata": {},
     "output_type": "execute_result"
    }
   ],
   "source": [
    "# Member ID of the customer is not a numeric value to perform some operation, but a unique value to identify the customer membership\n",
    "# So, converting member id column to String type\n",
    "\n",
    "df.member_id = df.member_id.astype(str)\n",
    "df.member_id.describe()"
   ]
  },
  {
   "cell_type": "code",
   "execution_count": 8,
   "metadata": {},
   "outputs": [
    {
     "data": {
      "text/plain": [
       "count    39717.000000\n",
       "mean        42.418007\n",
       "std         10.622815\n",
       "min         36.000000\n",
       "25%         36.000000\n",
       "50%         36.000000\n",
       "75%         60.000000\n",
       "max         60.000000\n",
       "Name: term, dtype: float64"
      ]
     },
     "execution_count": 8,
     "metadata": {},
     "output_type": "execute_result"
    }
   ],
   "source": [
    "# Term in the dataset is available as object, where term is a interger value of number of months the loan period\n",
    "# replacing the \"months\" with empty string and converting it to int\n",
    "df.term = df.term.apply(lambda x: int(x.replace('months', '').strip()))\n",
    "df.term.describe()"
   ]
  },
  {
   "cell_type": "code",
   "execution_count": 9,
   "metadata": {
    "scrolled": true
   },
   "outputs": [
    {
     "data": {
      "text/plain": [
       "count    39717.000000\n",
       "mean        12.021177\n",
       "std          3.724825\n",
       "min          5.420000\n",
       "25%          9.250000\n",
       "50%         11.860000\n",
       "75%         14.590000\n",
       "max         24.590000\n",
       "Name: int_rate, dtype: float64"
      ]
     },
     "execution_count": 9,
     "metadata": {},
     "output_type": "execute_result"
    }
   ],
   "source": [
    "# Interest Rate on the loan is a numeric value and only contains percentage symbol in addition with the interest rate\n",
    "# by removing \"%\" from the interest rate column, we can convert it into numberic column [float type]\n",
    "df.int_rate = df.int_rate.apply(lambda x: float(x.replace('%', '').strip()))\n",
    "df.int_rate.describe()"
   ]
  },
  {
   "cell_type": "code",
   "execution_count": 10,
   "metadata": {},
   "outputs": [
    {
     "data": {
      "text/plain": [
       "count                   39717\n",
       "unique                     55\n",
       "top       2011-12-01 00:00:00\n",
       "freq                     2260\n",
       "first     2007-06-01 00:00:00\n",
       "last      2011-12-01 00:00:00\n",
       "Name: issue_d, dtype: object"
      ]
     },
     "execution_count": 10,
     "metadata": {},
     "output_type": "execute_result"
    }
   ],
   "source": [
    "# converting issue_d i.e. The month which the loan was funded column type to date format\n",
    "df.issue_d = pd.to_datetime(df.issue_d, format='%b-%y')\n",
    "df.issue_d.describe()"
   ]
  },
  {
   "cell_type": "code",
   "execution_count": 11,
   "metadata": {},
   "outputs": [
    {
     "data": {
      "text/plain": [
       "count                   39717\n",
       "unique                    526\n",
       "top       1998-11-01 00:00:00\n",
       "freq                      370\n",
       "first     1969-02-01 00:00:00\n",
       "last      2068-12-01 00:00:00\n",
       "Name: earliest_cr_line, dtype: object"
      ]
     },
     "execution_count": 11,
     "metadata": {},
     "output_type": "execute_result"
    }
   ],
   "source": [
    "# converting earliest_cr_line i.e. The month the borrower's earliest reported credit line was opened column type to date format\n",
    "df.earliest_cr_line = pd.to_datetime(df.earliest_cr_line, format='%b-%y')\n",
    "df.earliest_cr_line.describe()"
   ]
  },
  {
   "cell_type": "code",
   "execution_count": 12,
   "metadata": {},
   "outputs": [
    {
     "data": {
      "text/plain": [
       "count    39667.000000\n",
       "mean        48.832152\n",
       "std         28.332634\n",
       "min          0.000000\n",
       "25%         25.400000\n",
       "50%         49.300000\n",
       "75%         72.400000\n",
       "max         99.900000\n",
       "Name: revol_util, dtype: float64"
      ]
     },
     "execution_count": 12,
     "metadata": {},
     "output_type": "execute_result"
    }
   ],
   "source": [
    "#  converting revol_util i.e. Revolving line utilization rate, or the amount of credit the borrower is using relative to all available revolving credit  column to float type by removing \"%\"\n",
    "df.revol_util = df.revol_util.apply(lambda x: float(str(x).replace('%', '').strip()))\n",
    "df.revol_util.describe()"
   ]
  },
  {
   "cell_type": "code",
   "execution_count": 13,
   "metadata": {
    "scrolled": true
   },
   "outputs": [
    {
     "data": {
      "text/plain": [
       "count                   39646\n",
       "unique                    101\n",
       "top       2016-05-01 00:00:00\n",
       "freq                     1256\n",
       "first     2008-01-01 00:00:00\n",
       "last      2016-05-01 00:00:00\n",
       "Name: last_pymnt_d, dtype: object"
      ]
     },
     "execution_count": 13,
     "metadata": {},
     "output_type": "execute_result"
    }
   ],
   "source": [
    "# converting last_pymnt_d column to date type column\n",
    "df.last_pymnt_d = pd.to_datetime(df.last_pymnt_d, format='%b-%y')\n",
    "df.last_pymnt_d.describe()"
   ]
  },
  {
   "cell_type": "code",
   "execution_count": 14,
   "metadata": {},
   "outputs": [
    {
     "data": {
      "text/plain": [
       "count                    1140\n",
       "unique                      2\n",
       "top       2016-06-01 00:00:00\n",
       "freq                     1125\n",
       "first     2016-06-01 00:00:00\n",
       "last      2016-07-01 00:00:00\n",
       "Name: next_pymnt_d, dtype: object"
      ]
     },
     "execution_count": 14,
     "metadata": {},
     "output_type": "execute_result"
    }
   ],
   "source": [
    "# converting next_pymnt_d column to date type column\n",
    "df.next_pymnt_d = pd.to_datetime(df.next_pymnt_d, format='%b-%y')\n",
    "df.next_pymnt_d.describe()"
   ]
  },
  {
   "cell_type": "code",
   "execution_count": 15,
   "metadata": {},
   "outputs": [
    {
     "data": {
      "text/plain": [
       "count                   39715\n",
       "unique                    106\n",
       "top       2016-05-01 00:00:00\n",
       "freq                    10308\n",
       "first     2007-05-01 00:00:00\n",
       "last      2016-05-01 00:00:00\n",
       "Name: last_credit_pull_d, dtype: object"
      ]
     },
     "execution_count": 15,
     "metadata": {},
     "output_type": "execute_result"
    }
   ],
   "source": [
    "# converting last_credit_pull_d column to date type column\n",
    "df.last_credit_pull_d = pd.to_datetime(df.last_credit_pull_d, format='%b-%y')\n",
    "df.last_credit_pull_d.describe()"
   ]
  },
  {
   "cell_type": "markdown",
   "metadata": {},
   "source": [
    "# Data cleaning\n",
    "_fixing the issues in the column data_"
   ]
  },
  {
   "cell_type": "code",
   "execution_count": 16,
   "metadata": {},
   "outputs": [
    {
     "data": {
      "text/plain": [
       "True"
      ]
     },
     "execution_count": 16,
     "metadata": {},
     "output_type": "execute_result"
    }
   ],
   "source": [
    "# As per Data Dictionary, id of a customer should be unique\n",
    "df.id.is_unique"
   ]
  },
  {
   "cell_type": "code",
   "execution_count": 17,
   "metadata": {},
   "outputs": [
    {
     "data": {
      "text/plain": [
       "True"
      ]
     },
     "execution_count": 17,
     "metadata": {},
     "output_type": "execute_result"
    }
   ],
   "source": [
    "# As per Data Dictionary, member id of a customer should be unique\n",
    "# checking member id column is unique by checking number of records [count] and unique values [unique] are same/equal\n",
    "df.member_id.is_unique"
   ]
  },
  {
   "cell_type": "code",
   "execution_count": 18,
   "metadata": {},
   "outputs": [
    {
     "data": {
      "text/plain": [
       "(0, 111)"
      ]
     },
     "execution_count": 18,
     "metadata": {},
     "output_type": "execute_result"
    }
   ],
   "source": [
    "# checking that funded amount should be less than or equals to applied loan amount, by using the opposite condition output rows are zero\n",
    "df[df.funded_amnt > df.loan_amnt].shape"
   ]
  },
  {
   "cell_type": "code",
   "execution_count": 19,
   "metadata": {},
   "outputs": [
    {
     "data": {
      "text/plain": [
       "(0, 111)"
      ]
     },
     "execution_count": 19,
     "metadata": {},
     "output_type": "execute_result"
    }
   ],
   "source": [
    "# checking that funded amount should be greater than or equals to funded amount by investor, and this is being tested by using the opposite condition where output rows should be zero\n",
    "df[df.funded_amnt<df.funded_amnt_inv].shape"
   ]
  },
  {
   "cell_type": "code",
   "execution_count": 20,
   "metadata": {},
   "outputs": [
    {
     "data": {
      "text/html": [
       "<div>\n",
       "<style scoped>\n",
       "    .dataframe tbody tr th:only-of-type {\n",
       "        vertical-align: middle;\n",
       "    }\n",
       "\n",
       "    .dataframe tbody tr th {\n",
       "        vertical-align: top;\n",
       "    }\n",
       "\n",
       "    .dataframe thead th {\n",
       "        text-align: right;\n",
       "    }\n",
       "</style>\n",
       "<table border=\"1\" class=\"dataframe\">\n",
       "  <thead>\n",
       "    <tr style=\"text-align: right;\">\n",
       "      <th></th>\n",
       "      <th>count</th>\n",
       "      <th>mean</th>\n",
       "      <th>std</th>\n",
       "      <th>min</th>\n",
       "      <th>25%</th>\n",
       "      <th>50%</th>\n",
       "      <th>75%</th>\n",
       "      <th>max</th>\n",
       "    </tr>\n",
       "    <tr>\n",
       "      <th>term</th>\n",
       "      <th></th>\n",
       "      <th></th>\n",
       "      <th></th>\n",
       "      <th></th>\n",
       "      <th></th>\n",
       "      <th></th>\n",
       "      <th></th>\n",
       "      <th></th>\n",
       "    </tr>\n",
       "  </thead>\n",
       "  <tbody>\n",
       "    <tr>\n",
       "      <th>36</th>\n",
       "      <td>29096.0</td>\n",
       "      <td>36.0</td>\n",
       "      <td>0.0</td>\n",
       "      <td>36.0</td>\n",
       "      <td>36.0</td>\n",
       "      <td>36.0</td>\n",
       "      <td>36.0</td>\n",
       "      <td>36.0</td>\n",
       "    </tr>\n",
       "    <tr>\n",
       "      <th>60</th>\n",
       "      <td>10621.0</td>\n",
       "      <td>60.0</td>\n",
       "      <td>0.0</td>\n",
       "      <td>60.0</td>\n",
       "      <td>60.0</td>\n",
       "      <td>60.0</td>\n",
       "      <td>60.0</td>\n",
       "      <td>60.0</td>\n",
       "    </tr>\n",
       "  </tbody>\n",
       "</table>\n",
       "</div>"
      ],
      "text/plain": [
       "        count  mean  std   min   25%   50%   75%   max\n",
       "term                                                  \n",
       "36    29096.0  36.0  0.0  36.0  36.0  36.0  36.0  36.0\n",
       "60    10621.0  60.0  0.0  60.0  60.0  60.0  60.0  60.0"
      ]
     },
     "execution_count": 20,
     "metadata": {},
     "output_type": "execute_result"
    }
   ],
   "source": [
    "# Term of the loan should be either 36 months or 60 months\n",
    "# So, checking the unique values in the term column by grouping the same\n",
    "\n",
    "df.term.groupby(by=df.term).describe()"
   ]
  },
  {
   "cell_type": "code",
   "execution_count": 21,
   "metadata": {},
   "outputs": [
    {
     "data": {
      "text/html": [
       "<div>\n",
       "<style scoped>\n",
       "    .dataframe tbody tr th:only-of-type {\n",
       "        vertical-align: middle;\n",
       "    }\n",
       "\n",
       "    .dataframe tbody tr th {\n",
       "        vertical-align: top;\n",
       "    }\n",
       "\n",
       "    .dataframe thead th {\n",
       "        text-align: right;\n",
       "    }\n",
       "</style>\n",
       "<table border=\"1\" class=\"dataframe\">\n",
       "  <thead>\n",
       "    <tr style=\"text-align: right;\">\n",
       "      <th></th>\n",
       "      <th></th>\n",
       "      <th></th>\n",
       "      <th>count</th>\n",
       "      <th>mean</th>\n",
       "      <th>std</th>\n",
       "      <th>min</th>\n",
       "      <th>25%</th>\n",
       "      <th>50%</th>\n",
       "      <th>75%</th>\n",
       "      <th>max</th>\n",
       "    </tr>\n",
       "    <tr>\n",
       "      <th>grade</th>\n",
       "      <th>sub_grade</th>\n",
       "      <th>term</th>\n",
       "      <th></th>\n",
       "      <th></th>\n",
       "      <th></th>\n",
       "      <th></th>\n",
       "      <th></th>\n",
       "      <th></th>\n",
       "      <th></th>\n",
       "      <th></th>\n",
       "    </tr>\n",
       "  </thead>\n",
       "  <tbody>\n",
       "    <tr>\n",
       "      <th rowspan=\"9\" valign=\"top\">A</th>\n",
       "      <th>A1</th>\n",
       "      <th>36</th>\n",
       "      <td>1139.0</td>\n",
       "      <td>5.805224</td>\n",
       "      <td>0.469727</td>\n",
       "      <td>5.42</td>\n",
       "      <td>5.4200</td>\n",
       "      <td>5.420</td>\n",
       "      <td>6.0300</td>\n",
       "      <td>7.37</td>\n",
       "    </tr>\n",
       "    <tr>\n",
       "      <th rowspan=\"2\" valign=\"top\">A2</th>\n",
       "      <th>36</th>\n",
       "      <td>1494.0</td>\n",
       "      <td>6.381653</td>\n",
       "      <td>0.574339</td>\n",
       "      <td>5.79</td>\n",
       "      <td>5.7900</td>\n",
       "      <td>6.305</td>\n",
       "      <td>6.6200</td>\n",
       "      <td>7.68</td>\n",
       "    </tr>\n",
       "    <tr>\n",
       "      <th>60</th>\n",
       "      <td>14.0</td>\n",
       "      <td>6.067143</td>\n",
       "      <td>0.454743</td>\n",
       "      <td>5.79</td>\n",
       "      <td>5.7900</td>\n",
       "      <td>5.790</td>\n",
       "      <td>6.5175</td>\n",
       "      <td>6.76</td>\n",
       "    </tr>\n",
       "    <tr>\n",
       "      <th rowspan=\"2\" valign=\"top\">A3</th>\n",
       "      <th>36</th>\n",
       "      <td>1769.0</td>\n",
       "      <td>7.182120</td>\n",
       "      <td>0.515136</td>\n",
       "      <td>6.17</td>\n",
       "      <td>6.9900</td>\n",
       "      <td>7.140</td>\n",
       "      <td>7.5100</td>\n",
       "      <td>8.00</td>\n",
       "    </tr>\n",
       "    <tr>\n",
       "      <th>60</th>\n",
       "      <td>41.0</td>\n",
       "      <td>6.406585</td>\n",
       "      <td>0.421726</td>\n",
       "      <td>6.17</td>\n",
       "      <td>6.1700</td>\n",
       "      <td>6.170</td>\n",
       "      <td>6.1700</td>\n",
       "      <td>7.14</td>\n",
       "    </tr>\n",
       "    <tr>\n",
       "      <th rowspan=\"2\" valign=\"top\">A4</th>\n",
       "      <th>36</th>\n",
       "      <td>2753.0</td>\n",
       "      <td>7.681133</td>\n",
       "      <td>0.649123</td>\n",
       "      <td>6.00</td>\n",
       "      <td>7.4900</td>\n",
       "      <td>7.510</td>\n",
       "      <td>7.9000</td>\n",
       "      <td>9.32</td>\n",
       "    </tr>\n",
       "    <tr>\n",
       "      <th>60</th>\n",
       "      <td>133.0</td>\n",
       "      <td>7.239850</td>\n",
       "      <td>0.522826</td>\n",
       "      <td>6.54</td>\n",
       "      <td>6.5400</td>\n",
       "      <td>7.490</td>\n",
       "      <td>7.5100</td>\n",
       "      <td>7.90</td>\n",
       "    </tr>\n",
       "    <tr>\n",
       "      <th rowspan=\"2\" valign=\"top\">A5</th>\n",
       "      <th>36</th>\n",
       "      <td>2495.0</td>\n",
       "      <td>8.302365</td>\n",
       "      <td>0.737729</td>\n",
       "      <td>6.91</td>\n",
       "      <td>7.8800</td>\n",
       "      <td>8.490</td>\n",
       "      <td>8.9000</td>\n",
       "      <td>9.63</td>\n",
       "    </tr>\n",
       "    <tr>\n",
       "      <th>60</th>\n",
       "      <td>247.0</td>\n",
       "      <td>7.909069</td>\n",
       "      <td>0.664500</td>\n",
       "      <td>6.91</td>\n",
       "      <td>7.6600</td>\n",
       "      <td>7.880</td>\n",
       "      <td>8.4900</td>\n",
       "      <td>8.90</td>\n",
       "    </tr>\n",
       "    <tr>\n",
       "      <th rowspan=\"10\" valign=\"top\">B</th>\n",
       "      <th rowspan=\"2\" valign=\"top\">B1</th>\n",
       "      <th>36</th>\n",
       "      <td>1619.0</td>\n",
       "      <td>10.027906</td>\n",
       "      <td>0.597094</td>\n",
       "      <td>6.00</td>\n",
       "      <td>9.8800</td>\n",
       "      <td>9.910</td>\n",
       "      <td>10.3800</td>\n",
       "      <td>11.14</td>\n",
       "    </tr>\n",
       "    <tr>\n",
       "      <th>60</th>\n",
       "      <td>211.0</td>\n",
       "      <td>9.818673</td>\n",
       "      <td>0.512384</td>\n",
       "      <td>8.88</td>\n",
       "      <td>9.6300</td>\n",
       "      <td>9.910</td>\n",
       "      <td>10.3800</td>\n",
       "      <td>10.38</td>\n",
       "    </tr>\n",
       "    <tr>\n",
       "      <th rowspan=\"2\" valign=\"top\">B2</th>\n",
       "      <th>36</th>\n",
       "      <td>1724.0</td>\n",
       "      <td>10.495626</td>\n",
       "      <td>0.583990</td>\n",
       "      <td>6.00</td>\n",
       "      <td>10.2500</td>\n",
       "      <td>10.590</td>\n",
       "      <td>10.7500</td>\n",
       "      <td>11.48</td>\n",
       "    </tr>\n",
       "    <tr>\n",
       "      <th>60</th>\n",
       "      <td>333.0</td>\n",
       "      <td>10.456456</td>\n",
       "      <td>0.418822</td>\n",
       "      <td>9.25</td>\n",
       "      <td>10.5900</td>\n",
       "      <td>10.650</td>\n",
       "      <td>10.6500</td>\n",
       "      <td>10.75</td>\n",
       "    </tr>\n",
       "    <tr>\n",
       "      <th rowspan=\"2\" valign=\"top\">B3</th>\n",
       "      <th>36</th>\n",
       "      <td>2195.0</td>\n",
       "      <td>11.024050</td>\n",
       "      <td>0.636782</td>\n",
       "      <td>6.00</td>\n",
       "      <td>10.6200</td>\n",
       "      <td>10.990</td>\n",
       "      <td>11.7100</td>\n",
       "      <td>11.83</td>\n",
       "    </tr>\n",
       "    <tr>\n",
       "      <th>60</th>\n",
       "      <td>722.0</td>\n",
       "      <td>10.898518</td>\n",
       "      <td>0.647035</td>\n",
       "      <td>9.62</td>\n",
       "      <td>10.3700</td>\n",
       "      <td>10.990</td>\n",
       "      <td>11.7100</td>\n",
       "      <td>11.71</td>\n",
       "    </tr>\n",
       "    <tr>\n",
       "      <th rowspan=\"2\" valign=\"top\">B4</th>\n",
       "      <th>36</th>\n",
       "      <td>1819.0</td>\n",
       "      <td>11.441715</td>\n",
       "      <td>0.742029</td>\n",
       "      <td>9.64</td>\n",
       "      <td>10.9900</td>\n",
       "      <td>11.490</td>\n",
       "      <td>12.1800</td>\n",
       "      <td>12.42</td>\n",
       "    </tr>\n",
       "    <tr>\n",
       "      <th>60</th>\n",
       "      <td>693.0</td>\n",
       "      <td>11.325296</td>\n",
       "      <td>0.754956</td>\n",
       "      <td>9.99</td>\n",
       "      <td>10.7400</td>\n",
       "      <td>11.490</td>\n",
       "      <td>11.4900</td>\n",
       "      <td>12.42</td>\n",
       "    </tr>\n",
       "    <tr>\n",
       "      <th rowspan=\"2\" valign=\"top\">B5</th>\n",
       "      <th>36</th>\n",
       "      <td>1974.0</td>\n",
       "      <td>11.783642</td>\n",
       "      <td>0.739154</td>\n",
       "      <td>6.00</td>\n",
       "      <td>11.3600</td>\n",
       "      <td>11.990</td>\n",
       "      <td>12.5300</td>\n",
       "      <td>12.69</td>\n",
       "    </tr>\n",
       "    <tr>\n",
       "      <th>60</th>\n",
       "      <td>730.0</td>\n",
       "      <td>11.785466</td>\n",
       "      <td>0.703462</td>\n",
       "      <td>10.36</td>\n",
       "      <td>11.1100</td>\n",
       "      <td>11.860</td>\n",
       "      <td>11.9900</td>\n",
       "      <td>12.69</td>\n",
       "    </tr>\n",
       "    <tr>\n",
       "      <th rowspan=\"10\" valign=\"top\">C</th>\n",
       "      <th rowspan=\"2\" valign=\"top\">C1</th>\n",
       "      <th>36</th>\n",
       "      <td>1470.0</td>\n",
       "      <td>12.770735</td>\n",
       "      <td>0.649075</td>\n",
       "      <td>10.28</td>\n",
       "      <td>12.6800</td>\n",
       "      <td>12.870</td>\n",
       "      <td>13.2300</td>\n",
       "      <td>13.49</td>\n",
       "    </tr>\n",
       "    <tr>\n",
       "      <th>60</th>\n",
       "      <td>666.0</td>\n",
       "      <td>13.031321</td>\n",
       "      <td>0.365396</td>\n",
       "      <td>12.23</td>\n",
       "      <td>12.6800</td>\n",
       "      <td>12.990</td>\n",
       "      <td>13.2300</td>\n",
       "      <td>13.49</td>\n",
       "    </tr>\n",
       "    <tr>\n",
       "      <th rowspan=\"2\" valign=\"top\">C2</th>\n",
       "      <th>36</th>\n",
       "      <td>1341.0</td>\n",
       "      <td>13.262990</td>\n",
       "      <td>0.703406</td>\n",
       "      <td>10.59</td>\n",
       "      <td>13.0600</td>\n",
       "      <td>13.220</td>\n",
       "      <td>13.6100</td>\n",
       "      <td>14.27</td>\n",
       "    </tr>\n",
       "    <tr>\n",
       "      <th>60</th>\n",
       "      <td>670.0</td>\n",
       "      <td>13.531806</td>\n",
       "      <td>0.577995</td>\n",
       "      <td>6.00</td>\n",
       "      <td>13.1100</td>\n",
       "      <td>13.490</td>\n",
       "      <td>13.6100</td>\n",
       "      <td>14.27</td>\n",
       "    </tr>\n",
       "    <tr>\n",
       "      <th rowspan=\"2\" valign=\"top\">C3</th>\n",
       "      <th>36</th>\n",
       "      <td>1092.0</td>\n",
       "      <td>13.550769</td>\n",
       "      <td>0.751846</td>\n",
       "      <td>10.91</td>\n",
       "      <td>13.1600</td>\n",
       "      <td>13.570</td>\n",
       "      <td>13.9900</td>\n",
       "      <td>14.82</td>\n",
       "    </tr>\n",
       "    <tr>\n",
       "      <th>60</th>\n",
       "      <td>437.0</td>\n",
       "      <td>13.928238</td>\n",
       "      <td>0.476240</td>\n",
       "      <td>12.98</td>\n",
       "      <td>13.4300</td>\n",
       "      <td>13.980</td>\n",
       "      <td>13.9900</td>\n",
       "      <td>14.82</td>\n",
       "    </tr>\n",
       "    <tr>\n",
       "      <th rowspan=\"2\" valign=\"top\">C4</th>\n",
       "      <th>36</th>\n",
       "      <td>954.0</td>\n",
       "      <td>13.929612</td>\n",
       "      <td>0.918261</td>\n",
       "      <td>6.00</td>\n",
       "      <td>13.4700</td>\n",
       "      <td>13.850</td>\n",
       "      <td>14.3500</td>\n",
       "      <td>15.62</td>\n",
       "    </tr>\n",
       "    <tr>\n",
       "      <th>60</th>\n",
       "      <td>282.0</td>\n",
       "      <td>14.459255</td>\n",
       "      <td>0.715074</td>\n",
       "      <td>13.35</td>\n",
       "      <td>13.8000</td>\n",
       "      <td>14.790</td>\n",
       "      <td>15.2700</td>\n",
       "      <td>15.27</td>\n",
       "    </tr>\n",
       "    <tr>\n",
       "      <th rowspan=\"2\" valign=\"top\">C5</th>\n",
       "      <th>36</th>\n",
       "      <td>892.0</td>\n",
       "      <td>14.357635</td>\n",
       "      <td>1.018350</td>\n",
       "      <td>6.00</td>\n",
       "      <td>13.7900</td>\n",
       "      <td>14.260</td>\n",
       "      <td>15.2300</td>\n",
       "      <td>16.11</td>\n",
       "    </tr>\n",
       "    <tr>\n",
       "      <th>60</th>\n",
       "      <td>294.0</td>\n",
       "      <td>14.934014</td>\n",
       "      <td>0.838575</td>\n",
       "      <td>13.72</td>\n",
       "      <td>14.1700</td>\n",
       "      <td>15.230</td>\n",
       "      <td>15.9600</td>\n",
       "      <td>16.11</td>\n",
       "    </tr>\n",
       "    <tr>\n",
       "      <th rowspan=\"10\" valign=\"top\">D</th>\n",
       "      <th rowspan=\"2\" valign=\"top\">D1</th>\n",
       "      <th>36</th>\n",
       "      <td>918.0</td>\n",
       "      <td>14.843007</td>\n",
       "      <td>1.020472</td>\n",
       "      <td>6.00</td>\n",
       "      <td>14.5400</td>\n",
       "      <td>14.610</td>\n",
       "      <td>15.6200</td>\n",
       "      <td>16.59</td>\n",
       "    </tr>\n",
       "    <tr>\n",
       "      <th>60</th>\n",
       "      <td>13.0</td>\n",
       "      <td>15.570769</td>\n",
       "      <td>0.800765</td>\n",
       "      <td>14.54</td>\n",
       "      <td>14.5900</td>\n",
       "      <td>15.620</td>\n",
       "      <td>16.2900</td>\n",
       "      <td>16.59</td>\n",
       "    </tr>\n",
       "    <tr>\n",
       "      <th rowspan=\"2\" valign=\"top\">D2</th>\n",
       "      <th>36</th>\n",
       "      <td>816.0</td>\n",
       "      <td>15.185723</td>\n",
       "      <td>0.996643</td>\n",
       "      <td>12.17</td>\n",
       "      <td>14.9100</td>\n",
       "      <td>14.960</td>\n",
       "      <td>15.9900</td>\n",
       "      <td>17.19</td>\n",
       "    </tr>\n",
       "    <tr>\n",
       "      <th>60</th>\n",
       "      <td>532.0</td>\n",
       "      <td>15.600508</td>\n",
       "      <td>0.883387</td>\n",
       "      <td>6.00</td>\n",
       "      <td>14.9100</td>\n",
       "      <td>15.210</td>\n",
       "      <td>15.9900</td>\n",
       "      <td>17.19</td>\n",
       "    </tr>\n",
       "    <tr>\n",
       "      <th rowspan=\"2\" valign=\"top\">D3</th>\n",
       "      <th>36</th>\n",
       "      <td>637.0</td>\n",
       "      <td>15.492480</td>\n",
       "      <td>1.009369</td>\n",
       "      <td>12.49</td>\n",
       "      <td>15.2800</td>\n",
       "      <td>15.330</td>\n",
       "      <td>16.4900</td>\n",
       "      <td>17.54</td>\n",
       "    </tr>\n",
       "    <tr>\n",
       "      <th>60</th>\n",
       "      <td>536.0</td>\n",
       "      <td>16.111213</td>\n",
       "      <td>0.859198</td>\n",
       "      <td>14.83</td>\n",
       "      <td>15.2800</td>\n",
       "      <td>16.490</td>\n",
       "      <td>17.2700</td>\n",
       "      <td>17.27</td>\n",
       "    </tr>\n",
       "    <tr>\n",
       "      <th rowspan=\"2\" valign=\"top\">D4</th>\n",
       "      <th>36</th>\n",
       "      <td>494.0</td>\n",
       "      <td>15.825688</td>\n",
       "      <td>1.073832</td>\n",
       "      <td>12.80</td>\n",
       "      <td>15.2000</td>\n",
       "      <td>15.700</td>\n",
       "      <td>16.8900</td>\n",
       "      <td>18.07</td>\n",
       "    </tr>\n",
       "    <tr>\n",
       "      <th>60</th>\n",
       "      <td>487.0</td>\n",
       "      <td>16.507084</td>\n",
       "      <td>0.839664</td>\n",
       "      <td>15.20</td>\n",
       "      <td>15.6500</td>\n",
       "      <td>16.890</td>\n",
       "      <td>17.5800</td>\n",
       "      <td>18.07</td>\n",
       "    </tr>\n",
       "    <tr>\n",
       "      <th rowspan=\"2\" valign=\"top\">D5</th>\n",
       "      <th>36</th>\n",
       "      <td>366.0</td>\n",
       "      <td>16.223306</td>\n",
       "      <td>1.065282</td>\n",
       "      <td>13.12</td>\n",
       "      <td>16.0000</td>\n",
       "      <td>16.020</td>\n",
       "      <td>16.3200</td>\n",
       "      <td>18.49</td>\n",
       "    </tr>\n",
       "    <tr>\n",
       "      <th>60</th>\n",
       "      <td>508.0</td>\n",
       "      <td>16.943504</td>\n",
       "      <td>1.086384</td>\n",
       "      <td>6.00</td>\n",
       "      <td>16.0200</td>\n",
       "      <td>17.490</td>\n",
       "      <td>17.4900</td>\n",
       "      <td>18.49</td>\n",
       "    </tr>\n",
       "    <tr>\n",
       "      <th rowspan=\"10\" valign=\"top\">E</th>\n",
       "      <th rowspan=\"2\" valign=\"top\">E1</th>\n",
       "      <th>36</th>\n",
       "      <td>286.0</td>\n",
       "      <td>16.511503</td>\n",
       "      <td>1.093350</td>\n",
       "      <td>13.43</td>\n",
       "      <td>15.9500</td>\n",
       "      <td>16.400</td>\n",
       "      <td>16.4500</td>\n",
       "      <td>19.39</td>\n",
       "    </tr>\n",
       "    <tr>\n",
       "      <th>60</th>\n",
       "      <td>477.0</td>\n",
       "      <td>17.320629</td>\n",
       "      <td>1.027651</td>\n",
       "      <td>15.95</td>\n",
       "      <td>16.4000</td>\n",
       "      <td>16.450</td>\n",
       "      <td>17.9900</td>\n",
       "      <td>19.39</td>\n",
       "    </tr>\n",
       "    <tr>\n",
       "      <th rowspan=\"2\" valign=\"top\">E2</th>\n",
       "      <th>36</th>\n",
       "      <td>211.0</td>\n",
       "      <td>16.808673</td>\n",
       "      <td>1.246084</td>\n",
       "      <td>13.75</td>\n",
       "      <td>16.0000</td>\n",
       "      <td>16.770</td>\n",
       "      <td>16.8200</td>\n",
       "      <td>19.03</td>\n",
       "    </tr>\n",
       "    <tr>\n",
       "      <th>60</th>\n",
       "      <td>445.0</td>\n",
       "      <td>17.745978</td>\n",
       "      <td>1.026407</td>\n",
       "      <td>16.32</td>\n",
       "      <td>16.7700</td>\n",
       "      <td>18.390</td>\n",
       "      <td>18.3900</td>\n",
       "      <td>19.79</td>\n",
       "    </tr>\n",
       "    <tr>\n",
       "      <th rowspan=\"2\" valign=\"top\">E3</th>\n",
       "      <th>36</th>\n",
       "      <td>164.0</td>\n",
       "      <td>17.247073</td>\n",
       "      <td>1.192693</td>\n",
       "      <td>14.07</td>\n",
       "      <td>16.3200</td>\n",
       "      <td>17.140</td>\n",
       "      <td>17.1900</td>\n",
       "      <td>20.20</td>\n",
       "    </tr>\n",
       "    <tr>\n",
       "      <th>60</th>\n",
       "      <td>389.0</td>\n",
       "      <td>17.999820</td>\n",
       "      <td>1.369287</td>\n",
       "      <td>6.00</td>\n",
       "      <td>17.1400</td>\n",
       "      <td>17.190</td>\n",
       "      <td>19.4200</td>\n",
       "      <td>20.20</td>\n",
       "    </tr>\n",
       "    <tr>\n",
       "      <th rowspan=\"2\" valign=\"top\">E4</th>\n",
       "      <th>36</th>\n",
       "      <td>108.0</td>\n",
       "      <td>17.347500</td>\n",
       "      <td>1.800540</td>\n",
       "      <td>6.00</td>\n",
       "      <td>16.6300</td>\n",
       "      <td>17.510</td>\n",
       "      <td>17.5600</td>\n",
       "      <td>20.69</td>\n",
       "    </tr>\n",
       "    <tr>\n",
       "      <th>60</th>\n",
       "      <td>346.0</td>\n",
       "      <td>18.558931</td>\n",
       "      <td>1.105878</td>\n",
       "      <td>17.06</td>\n",
       "      <td>17.5225</td>\n",
       "      <td>19.290</td>\n",
       "      <td>19.2900</td>\n",
       "      <td>20.69</td>\n",
       "    </tr>\n",
       "    <tr>\n",
       "      <th rowspan=\"2\" valign=\"top\">E5</th>\n",
       "      <th>36</th>\n",
       "      <td>99.0</td>\n",
       "      <td>17.722727</td>\n",
       "      <td>1.146122</td>\n",
       "      <td>14.67</td>\n",
       "      <td>17.1900</td>\n",
       "      <td>17.880</td>\n",
       "      <td>17.9300</td>\n",
       "      <td>20.30</td>\n",
       "    </tr>\n",
       "    <tr>\n",
       "      <th>60</th>\n",
       "      <td>317.0</td>\n",
       "      <td>19.018770</td>\n",
       "      <td>1.328380</td>\n",
       "      <td>6.00</td>\n",
       "      <td>17.8800</td>\n",
       "      <td>19.690</td>\n",
       "      <td>20.3000</td>\n",
       "      <td>20.99</td>\n",
       "    </tr>\n",
       "    <tr>\n",
       "      <th rowspan=\"10\" valign=\"top\">F</th>\n",
       "      <th rowspan=\"2\" valign=\"top\">F1</th>\n",
       "      <th>36</th>\n",
       "      <td>62.0</td>\n",
       "      <td>18.159839</td>\n",
       "      <td>1.384666</td>\n",
       "      <td>15.01</td>\n",
       "      <td>17.2600</td>\n",
       "      <td>18.170</td>\n",
       "      <td>18.3000</td>\n",
       "      <td>20.89</td>\n",
       "    </tr>\n",
       "    <tr>\n",
       "      <th>60</th>\n",
       "      <td>267.0</td>\n",
       "      <td>19.443745</td>\n",
       "      <td>1.198243</td>\n",
       "      <td>17.80</td>\n",
       "      <td>18.2500</td>\n",
       "      <td>20.250</td>\n",
       "      <td>20.2500</td>\n",
       "      <td>21.48</td>\n",
       "    </tr>\n",
       "    <tr>\n",
       "      <th rowspan=\"2\" valign=\"top\">F2</th>\n",
       "      <th>36</th>\n",
       "      <td>54.0</td>\n",
       "      <td>18.156296</td>\n",
       "      <td>1.289057</td>\n",
       "      <td>15.33</td>\n",
       "      <td>17.5800</td>\n",
       "      <td>18.430</td>\n",
       "      <td>18.6200</td>\n",
       "      <td>21.28</td>\n",
       "    </tr>\n",
       "    <tr>\n",
       "      <th>60</th>\n",
       "      <td>195.0</td>\n",
       "      <td>19.722923</td>\n",
       "      <td>1.238133</td>\n",
       "      <td>18.17</td>\n",
       "      <td>18.6200</td>\n",
       "      <td>18.670</td>\n",
       "      <td>20.6200</td>\n",
       "      <td>21.82</td>\n",
       "    </tr>\n",
       "    <tr>\n",
       "      <th rowspan=\"2\" valign=\"top\">F3</th>\n",
       "      <th>36</th>\n",
       "      <td>31.0</td>\n",
       "      <td>18.657097</td>\n",
       "      <td>1.217238</td>\n",
       "      <td>15.65</td>\n",
       "      <td>18.5400</td>\n",
       "      <td>18.990</td>\n",
       "      <td>19.0400</td>\n",
       "      <td>20.99</td>\n",
       "    </tr>\n",
       "    <tr>\n",
       "      <th>60</th>\n",
       "      <td>154.0</td>\n",
       "      <td>20.301429</td>\n",
       "      <td>1.232193</td>\n",
       "      <td>18.54</td>\n",
       "      <td>18.9900</td>\n",
       "      <td>20.990</td>\n",
       "      <td>21.6700</td>\n",
       "      <td>21.67</td>\n",
       "    </tr>\n",
       "    <tr>\n",
       "      <th rowspan=\"2\" valign=\"top\">F4</th>\n",
       "      <th>36</th>\n",
       "      <td>38.0</td>\n",
       "      <td>19.076316</td>\n",
       "      <td>1.345325</td>\n",
       "      <td>15.96</td>\n",
       "      <td>18.4400</td>\n",
       "      <td>19.130</td>\n",
       "      <td>19.4100</td>\n",
       "      <td>22.06</td>\n",
       "    </tr>\n",
       "    <tr>\n",
       "      <th>60</th>\n",
       "      <td>130.0</td>\n",
       "      <td>20.741385</td>\n",
       "      <td>1.216120</td>\n",
       "      <td>18.91</td>\n",
       "      <td>19.3600</td>\n",
       "      <td>21.360</td>\n",
       "      <td>22.0600</td>\n",
       "      <td>22.64</td>\n",
       "    </tr>\n",
       "    <tr>\n",
       "      <th rowspan=\"2\" valign=\"top\">F5</th>\n",
       "      <th>36</th>\n",
       "      <td>26.0</td>\n",
       "      <td>19.671154</td>\n",
       "      <td>1.325990</td>\n",
       "      <td>17.03</td>\n",
       "      <td>19.3350</td>\n",
       "      <td>19.470</td>\n",
       "      <td>19.7900</td>\n",
       "      <td>22.35</td>\n",
       "    </tr>\n",
       "    <tr>\n",
       "      <th>60</th>\n",
       "      <td>92.0</td>\n",
       "      <td>21.040435</td>\n",
       "      <td>1.231529</td>\n",
       "      <td>19.29</td>\n",
       "      <td>19.7400</td>\n",
       "      <td>21.740</td>\n",
       "      <td>22.3500</td>\n",
       "      <td>22.94</td>\n",
       "    </tr>\n",
       "    <tr>\n",
       "      <th rowspan=\"10\" valign=\"top\">G</th>\n",
       "      <th rowspan=\"2\" valign=\"top\">G1</th>\n",
       "      <th>36</th>\n",
       "      <td>20.0</td>\n",
       "      <td>19.996000</td>\n",
       "      <td>1.144430</td>\n",
       "      <td>17.34</td>\n",
       "      <td>19.7800</td>\n",
       "      <td>19.965</td>\n",
       "      <td>20.1600</td>\n",
       "      <td>22.11</td>\n",
       "    </tr>\n",
       "    <tr>\n",
       "      <th>60</th>\n",
       "      <td>84.0</td>\n",
       "      <td>21.364762</td>\n",
       "      <td>1.201034</td>\n",
       "      <td>19.66</td>\n",
       "      <td>20.1100</td>\n",
       "      <td>22.110</td>\n",
       "      <td>22.1100</td>\n",
       "      <td>22.74</td>\n",
       "    </tr>\n",
       "    <tr>\n",
       "      <th rowspan=\"2\" valign=\"top\">G2</th>\n",
       "      <th>36</th>\n",
       "      <td>13.0</td>\n",
       "      <td>20.123077</td>\n",
       "      <td>0.850092</td>\n",
       "      <td>19.16</td>\n",
       "      <td>20.0300</td>\n",
       "      <td>20.030</td>\n",
       "      <td>20.1700</td>\n",
       "      <td>22.48</td>\n",
       "    </tr>\n",
       "    <tr>\n",
       "      <th>60</th>\n",
       "      <td>65.0</td>\n",
       "      <td>21.254615</td>\n",
       "      <td>1.159543</td>\n",
       "      <td>20.03</td>\n",
       "      <td>20.4800</td>\n",
       "      <td>20.530</td>\n",
       "      <td>22.4800</td>\n",
       "      <td>23.13</td>\n",
       "    </tr>\n",
       "    <tr>\n",
       "      <th rowspan=\"2\" valign=\"top\">G3</th>\n",
       "      <th>36</th>\n",
       "      <td>4.0</td>\n",
       "      <td>20.135000</td>\n",
       "      <td>0.967109</td>\n",
       "      <td>18.72</td>\n",
       "      <td>19.9800</td>\n",
       "      <td>20.460</td>\n",
       "      <td>20.6150</td>\n",
       "      <td>20.90</td>\n",
       "    </tr>\n",
       "    <tr>\n",
       "      <th>60</th>\n",
       "      <td>44.0</td>\n",
       "      <td>21.750682</td>\n",
       "      <td>1.190037</td>\n",
       "      <td>20.40</td>\n",
       "      <td>20.8500</td>\n",
       "      <td>20.900</td>\n",
       "      <td>22.8500</td>\n",
       "      <td>23.52</td>\n",
       "    </tr>\n",
       "    <tr>\n",
       "      <th rowspan=\"2\" valign=\"top\">G4</th>\n",
       "      <th>36</th>\n",
       "      <td>9.0</td>\n",
       "      <td>20.937778</td>\n",
       "      <td>1.144375</td>\n",
       "      <td>19.04</td>\n",
       "      <td>20.8600</td>\n",
       "      <td>20.860</td>\n",
       "      <td>21.2700</td>\n",
       "      <td>23.22</td>\n",
       "    </tr>\n",
       "    <tr>\n",
       "      <th>60</th>\n",
       "      <td>47.0</td>\n",
       "      <td>22.172553</td>\n",
       "      <td>1.327909</td>\n",
       "      <td>20.77</td>\n",
       "      <td>21.2200</td>\n",
       "      <td>21.270</td>\n",
       "      <td>23.5650</td>\n",
       "      <td>24.40</td>\n",
       "    </tr>\n",
       "    <tr>\n",
       "      <th rowspan=\"2\" valign=\"top\">G5</th>\n",
       "      <th>36</th>\n",
       "      <td>10.0</td>\n",
       "      <td>20.779000</td>\n",
       "      <td>1.001060</td>\n",
       "      <td>18.36</td>\n",
       "      <td>20.3675</td>\n",
       "      <td>21.210</td>\n",
       "      <td>21.2100</td>\n",
       "      <td>21.64</td>\n",
       "    </tr>\n",
       "    <tr>\n",
       "      <th>60</th>\n",
       "      <td>20.0</td>\n",
       "      <td>22.455500</td>\n",
       "      <td>1.249882</td>\n",
       "      <td>21.14</td>\n",
       "      <td>21.5900</td>\n",
       "      <td>21.615</td>\n",
       "      <td>23.5900</td>\n",
       "      <td>24.59</td>\n",
       "    </tr>\n",
       "  </tbody>\n",
       "</table>\n",
       "</div>"
      ],
      "text/plain": [
       "                       count       mean       std    min      25%     50%  \\\n",
       "grade sub_grade term                                                        \n",
       "A     A1        36    1139.0   5.805224  0.469727   5.42   5.4200   5.420   \n",
       "      A2        36    1494.0   6.381653  0.574339   5.79   5.7900   6.305   \n",
       "                60      14.0   6.067143  0.454743   5.79   5.7900   5.790   \n",
       "      A3        36    1769.0   7.182120  0.515136   6.17   6.9900   7.140   \n",
       "                60      41.0   6.406585  0.421726   6.17   6.1700   6.170   \n",
       "      A4        36    2753.0   7.681133  0.649123   6.00   7.4900   7.510   \n",
       "                60     133.0   7.239850  0.522826   6.54   6.5400   7.490   \n",
       "      A5        36    2495.0   8.302365  0.737729   6.91   7.8800   8.490   \n",
       "                60     247.0   7.909069  0.664500   6.91   7.6600   7.880   \n",
       "B     B1        36    1619.0  10.027906  0.597094   6.00   9.8800   9.910   \n",
       "                60     211.0   9.818673  0.512384   8.88   9.6300   9.910   \n",
       "      B2        36    1724.0  10.495626  0.583990   6.00  10.2500  10.590   \n",
       "                60     333.0  10.456456  0.418822   9.25  10.5900  10.650   \n",
       "      B3        36    2195.0  11.024050  0.636782   6.00  10.6200  10.990   \n",
       "                60     722.0  10.898518  0.647035   9.62  10.3700  10.990   \n",
       "      B4        36    1819.0  11.441715  0.742029   9.64  10.9900  11.490   \n",
       "                60     693.0  11.325296  0.754956   9.99  10.7400  11.490   \n",
       "      B5        36    1974.0  11.783642  0.739154   6.00  11.3600  11.990   \n",
       "                60     730.0  11.785466  0.703462  10.36  11.1100  11.860   \n",
       "C     C1        36    1470.0  12.770735  0.649075  10.28  12.6800  12.870   \n",
       "                60     666.0  13.031321  0.365396  12.23  12.6800  12.990   \n",
       "      C2        36    1341.0  13.262990  0.703406  10.59  13.0600  13.220   \n",
       "                60     670.0  13.531806  0.577995   6.00  13.1100  13.490   \n",
       "      C3        36    1092.0  13.550769  0.751846  10.91  13.1600  13.570   \n",
       "                60     437.0  13.928238  0.476240  12.98  13.4300  13.980   \n",
       "      C4        36     954.0  13.929612  0.918261   6.00  13.4700  13.850   \n",
       "                60     282.0  14.459255  0.715074  13.35  13.8000  14.790   \n",
       "      C5        36     892.0  14.357635  1.018350   6.00  13.7900  14.260   \n",
       "                60     294.0  14.934014  0.838575  13.72  14.1700  15.230   \n",
       "D     D1        36     918.0  14.843007  1.020472   6.00  14.5400  14.610   \n",
       "                60      13.0  15.570769  0.800765  14.54  14.5900  15.620   \n",
       "      D2        36     816.0  15.185723  0.996643  12.17  14.9100  14.960   \n",
       "                60     532.0  15.600508  0.883387   6.00  14.9100  15.210   \n",
       "      D3        36     637.0  15.492480  1.009369  12.49  15.2800  15.330   \n",
       "                60     536.0  16.111213  0.859198  14.83  15.2800  16.490   \n",
       "      D4        36     494.0  15.825688  1.073832  12.80  15.2000  15.700   \n",
       "                60     487.0  16.507084  0.839664  15.20  15.6500  16.890   \n",
       "      D5        36     366.0  16.223306  1.065282  13.12  16.0000  16.020   \n",
       "                60     508.0  16.943504  1.086384   6.00  16.0200  17.490   \n",
       "E     E1        36     286.0  16.511503  1.093350  13.43  15.9500  16.400   \n",
       "                60     477.0  17.320629  1.027651  15.95  16.4000  16.450   \n",
       "      E2        36     211.0  16.808673  1.246084  13.75  16.0000  16.770   \n",
       "                60     445.0  17.745978  1.026407  16.32  16.7700  18.390   \n",
       "      E3        36     164.0  17.247073  1.192693  14.07  16.3200  17.140   \n",
       "                60     389.0  17.999820  1.369287   6.00  17.1400  17.190   \n",
       "      E4        36     108.0  17.347500  1.800540   6.00  16.6300  17.510   \n",
       "                60     346.0  18.558931  1.105878  17.06  17.5225  19.290   \n",
       "      E5        36      99.0  17.722727  1.146122  14.67  17.1900  17.880   \n",
       "                60     317.0  19.018770  1.328380   6.00  17.8800  19.690   \n",
       "F     F1        36      62.0  18.159839  1.384666  15.01  17.2600  18.170   \n",
       "                60     267.0  19.443745  1.198243  17.80  18.2500  20.250   \n",
       "      F2        36      54.0  18.156296  1.289057  15.33  17.5800  18.430   \n",
       "                60     195.0  19.722923  1.238133  18.17  18.6200  18.670   \n",
       "      F3        36      31.0  18.657097  1.217238  15.65  18.5400  18.990   \n",
       "                60     154.0  20.301429  1.232193  18.54  18.9900  20.990   \n",
       "      F4        36      38.0  19.076316  1.345325  15.96  18.4400  19.130   \n",
       "                60     130.0  20.741385  1.216120  18.91  19.3600  21.360   \n",
       "      F5        36      26.0  19.671154  1.325990  17.03  19.3350  19.470   \n",
       "                60      92.0  21.040435  1.231529  19.29  19.7400  21.740   \n",
       "G     G1        36      20.0  19.996000  1.144430  17.34  19.7800  19.965   \n",
       "                60      84.0  21.364762  1.201034  19.66  20.1100  22.110   \n",
       "      G2        36      13.0  20.123077  0.850092  19.16  20.0300  20.030   \n",
       "                60      65.0  21.254615  1.159543  20.03  20.4800  20.530   \n",
       "      G3        36       4.0  20.135000  0.967109  18.72  19.9800  20.460   \n",
       "                60      44.0  21.750682  1.190037  20.40  20.8500  20.900   \n",
       "      G4        36       9.0  20.937778  1.144375  19.04  20.8600  20.860   \n",
       "                60      47.0  22.172553  1.327909  20.77  21.2200  21.270   \n",
       "      G5        36      10.0  20.779000  1.001060  18.36  20.3675  21.210   \n",
       "                60      20.0  22.455500  1.249882  21.14  21.5900  21.615   \n",
       "\n",
       "                          75%    max  \n",
       "grade sub_grade term                  \n",
       "A     A1        36     6.0300   7.37  \n",
       "      A2        36     6.6200   7.68  \n",
       "                60     6.5175   6.76  \n",
       "      A3        36     7.5100   8.00  \n",
       "                60     6.1700   7.14  \n",
       "      A4        36     7.9000   9.32  \n",
       "                60     7.5100   7.90  \n",
       "      A5        36     8.9000   9.63  \n",
       "                60     8.4900   8.90  \n",
       "B     B1        36    10.3800  11.14  \n",
       "                60    10.3800  10.38  \n",
       "      B2        36    10.7500  11.48  \n",
       "                60    10.6500  10.75  \n",
       "      B3        36    11.7100  11.83  \n",
       "                60    11.7100  11.71  \n",
       "      B4        36    12.1800  12.42  \n",
       "                60    11.4900  12.42  \n",
       "      B5        36    12.5300  12.69  \n",
       "                60    11.9900  12.69  \n",
       "C     C1        36    13.2300  13.49  \n",
       "                60    13.2300  13.49  \n",
       "      C2        36    13.6100  14.27  \n",
       "                60    13.6100  14.27  \n",
       "      C3        36    13.9900  14.82  \n",
       "                60    13.9900  14.82  \n",
       "      C4        36    14.3500  15.62  \n",
       "                60    15.2700  15.27  \n",
       "      C5        36    15.2300  16.11  \n",
       "                60    15.9600  16.11  \n",
       "D     D1        36    15.6200  16.59  \n",
       "                60    16.2900  16.59  \n",
       "      D2        36    15.9900  17.19  \n",
       "                60    15.9900  17.19  \n",
       "      D3        36    16.4900  17.54  \n",
       "                60    17.2700  17.27  \n",
       "      D4        36    16.8900  18.07  \n",
       "                60    17.5800  18.07  \n",
       "      D5        36    16.3200  18.49  \n",
       "                60    17.4900  18.49  \n",
       "E     E1        36    16.4500  19.39  \n",
       "                60    17.9900  19.39  \n",
       "      E2        36    16.8200  19.03  \n",
       "                60    18.3900  19.79  \n",
       "      E3        36    17.1900  20.20  \n",
       "                60    19.4200  20.20  \n",
       "      E4        36    17.5600  20.69  \n",
       "                60    19.2900  20.69  \n",
       "      E5        36    17.9300  20.30  \n",
       "                60    20.3000  20.99  \n",
       "F     F1        36    18.3000  20.89  \n",
       "                60    20.2500  21.48  \n",
       "      F2        36    18.6200  21.28  \n",
       "                60    20.6200  21.82  \n",
       "      F3        36    19.0400  20.99  \n",
       "                60    21.6700  21.67  \n",
       "      F4        36    19.4100  22.06  \n",
       "                60    22.0600  22.64  \n",
       "      F5        36    19.7900  22.35  \n",
       "                60    22.3500  22.94  \n",
       "G     G1        36    20.1600  22.11  \n",
       "                60    22.1100  22.74  \n",
       "      G2        36    20.1700  22.48  \n",
       "                60    22.4800  23.13  \n",
       "      G3        36    20.6150  20.90  \n",
       "                60    22.8500  23.52  \n",
       "      G4        36    21.2700  23.22  \n",
       "                60    23.5650  24.40  \n",
       "      G5        36    21.2100  21.64  \n",
       "                60    23.5900  24.59  "
      ]
     },
     "execution_count": 21,
     "metadata": {},
     "output_type": "execute_result"
    }
   ],
   "source": [
    "df.int_rate.groupby(by=[df.grade, df.sub_grade, df.term]).describe()"
   ]
  },
  {
   "cell_type": "code",
   "execution_count": 22,
   "metadata": {},
   "outputs": [
    {
     "data": {
      "text/plain": [
       "10+ years    8879\n",
       "< 1 year     4583\n",
       "2 years      4388\n",
       "3 years      4095\n",
       "4 years      3436\n",
       "5 years      3282\n",
       "1 year       3240\n",
       "6 years      2229\n",
       "7 years      1773\n",
       "8 years      1479\n",
       "9 years      1258\n",
       "Name: emp_length, dtype: int64"
      ]
     },
     "execution_count": 22,
     "metadata": {},
     "output_type": "execute_result"
    }
   ],
   "source": [
    "df.emp_length.value_counts()"
   ]
  },
  {
   "cell_type": "code",
   "execution_count": 23,
   "metadata": {
    "scrolled": true
   },
   "outputs": [
    {
     "data": {
      "text/plain": [
       "RENT        18899\n",
       "MORTGAGE    17659\n",
       "OWN          3058\n",
       "OTHER          98\n",
       "NONE            3\n",
       "Name: home_ownership, dtype: int64"
      ]
     },
     "execution_count": 23,
     "metadata": {},
     "output_type": "execute_result"
    }
   ],
   "source": [
    "# Home ownership should be Mortage, Own, Rent and Other\n",
    "df.home_ownership.value_counts()"
   ]
  },
  {
   "cell_type": "code",
   "execution_count": 24,
   "metadata": {},
   "outputs": [
    {
     "data": {
      "text/html": [
       "<div>\n",
       "<style scoped>\n",
       "    .dataframe tbody tr th:only-of-type {\n",
       "        vertical-align: middle;\n",
       "    }\n",
       "\n",
       "    .dataframe tbody tr th {\n",
       "        vertical-align: top;\n",
       "    }\n",
       "\n",
       "    .dataframe thead th {\n",
       "        text-align: right;\n",
       "    }\n",
       "</style>\n",
       "<table border=\"1\" class=\"dataframe\">\n",
       "  <thead>\n",
       "    <tr style=\"text-align: right;\">\n",
       "      <th></th>\n",
       "      <th>id</th>\n",
       "      <th>member_id</th>\n",
       "      <th>loan_amnt</th>\n",
       "      <th>funded_amnt</th>\n",
       "      <th>funded_amnt_inv</th>\n",
       "      <th>term</th>\n",
       "      <th>int_rate</th>\n",
       "      <th>installment</th>\n",
       "      <th>grade</th>\n",
       "      <th>sub_grade</th>\n",
       "      <th>emp_title</th>\n",
       "      <th>emp_length</th>\n",
       "      <th>home_ownership</th>\n",
       "      <th>annual_inc</th>\n",
       "      <th>verification_status</th>\n",
       "      <th>issue_d</th>\n",
       "      <th>loan_status</th>\n",
       "      <th>pymnt_plan</th>\n",
       "      <th>url</th>\n",
       "      <th>desc</th>\n",
       "      <th>purpose</th>\n",
       "      <th>title</th>\n",
       "      <th>zip_code</th>\n",
       "      <th>addr_state</th>\n",
       "      <th>dti</th>\n",
       "      <th>delinq_2yrs</th>\n",
       "      <th>earliest_cr_line</th>\n",
       "      <th>inq_last_6mths</th>\n",
       "      <th>mths_since_last_delinq</th>\n",
       "      <th>mths_since_last_record</th>\n",
       "      <th>open_acc</th>\n",
       "      <th>pub_rec</th>\n",
       "      <th>revol_bal</th>\n",
       "      <th>revol_util</th>\n",
       "      <th>total_acc</th>\n",
       "      <th>initial_list_status</th>\n",
       "      <th>out_prncp</th>\n",
       "      <th>out_prncp_inv</th>\n",
       "      <th>total_pymnt</th>\n",
       "      <th>total_pymnt_inv</th>\n",
       "      <th>total_rec_prncp</th>\n",
       "      <th>total_rec_int</th>\n",
       "      <th>total_rec_late_fee</th>\n",
       "      <th>recoveries</th>\n",
       "      <th>collection_recovery_fee</th>\n",
       "      <th>last_pymnt_d</th>\n",
       "      <th>last_pymnt_amnt</th>\n",
       "      <th>next_pymnt_d</th>\n",
       "      <th>last_credit_pull_d</th>\n",
       "      <th>collections_12_mths_ex_med</th>\n",
       "      <th>mths_since_last_major_derog</th>\n",
       "      <th>policy_code</th>\n",
       "      <th>application_type</th>\n",
       "      <th>annual_inc_joint</th>\n",
       "      <th>dti_joint</th>\n",
       "      <th>verification_status_joint</th>\n",
       "      <th>acc_now_delinq</th>\n",
       "      <th>tot_coll_amt</th>\n",
       "      <th>tot_cur_bal</th>\n",
       "      <th>open_acc_6m</th>\n",
       "      <th>open_il_6m</th>\n",
       "      <th>open_il_12m</th>\n",
       "      <th>open_il_24m</th>\n",
       "      <th>mths_since_rcnt_il</th>\n",
       "      <th>total_bal_il</th>\n",
       "      <th>il_util</th>\n",
       "      <th>open_rv_12m</th>\n",
       "      <th>open_rv_24m</th>\n",
       "      <th>max_bal_bc</th>\n",
       "      <th>all_util</th>\n",
       "      <th>total_rev_hi_lim</th>\n",
       "      <th>inq_fi</th>\n",
       "      <th>total_cu_tl</th>\n",
       "      <th>inq_last_12m</th>\n",
       "      <th>acc_open_past_24mths</th>\n",
       "      <th>avg_cur_bal</th>\n",
       "      <th>bc_open_to_buy</th>\n",
       "      <th>bc_util</th>\n",
       "      <th>chargeoff_within_12_mths</th>\n",
       "      <th>delinq_amnt</th>\n",
       "      <th>mo_sin_old_il_acct</th>\n",
       "      <th>mo_sin_old_rev_tl_op</th>\n",
       "      <th>mo_sin_rcnt_rev_tl_op</th>\n",
       "      <th>mo_sin_rcnt_tl</th>\n",
       "      <th>mort_acc</th>\n",
       "      <th>mths_since_recent_bc</th>\n",
       "      <th>mths_since_recent_bc_dlq</th>\n",
       "      <th>mths_since_recent_inq</th>\n",
       "      <th>mths_since_recent_revol_delinq</th>\n",
       "      <th>num_accts_ever_120_pd</th>\n",
       "      <th>num_actv_bc_tl</th>\n",
       "      <th>num_actv_rev_tl</th>\n",
       "      <th>num_bc_sats</th>\n",
       "      <th>num_bc_tl</th>\n",
       "      <th>num_il_tl</th>\n",
       "      <th>num_op_rev_tl</th>\n",
       "      <th>num_rev_accts</th>\n",
       "      <th>num_rev_tl_bal_gt_0</th>\n",
       "      <th>num_sats</th>\n",
       "      <th>num_tl_120dpd_2m</th>\n",
       "      <th>num_tl_30dpd</th>\n",
       "      <th>num_tl_90g_dpd_24m</th>\n",
       "      <th>num_tl_op_past_12m</th>\n",
       "      <th>pct_tl_nvr_dlq</th>\n",
       "      <th>percent_bc_gt_75</th>\n",
       "      <th>pub_rec_bankruptcies</th>\n",
       "      <th>tax_liens</th>\n",
       "      <th>tot_hi_cred_lim</th>\n",
       "      <th>total_bal_ex_mort</th>\n",
       "      <th>total_bc_limit</th>\n",
       "      <th>total_il_high_credit_limit</th>\n",
       "    </tr>\n",
       "  </thead>\n",
       "  <tbody>\n",
       "    <tr>\n",
       "      <th>39318</th>\n",
       "      <td>231321</td>\n",
       "      <td>214993</td>\n",
       "      <td>10000</td>\n",
       "      <td>10000</td>\n",
       "      <td>1228.06</td>\n",
       "      <td>36</td>\n",
       "      <td>7.75</td>\n",
       "      <td>312.22</td>\n",
       "      <td>A</td>\n",
       "      <td>A3</td>\n",
       "      <td>ups</td>\n",
       "      <td>5 years</td>\n",
       "      <td>NONE</td>\n",
       "      <td>22200.0</td>\n",
       "      <td>Not Verified</td>\n",
       "      <td>2008-01-01</td>\n",
       "      <td>Fully Paid</td>\n",
       "      <td>n</td>\n",
       "      <td>https://lendingclub.com/browse/loanDetail.acti...</td>\n",
       "      <td>I plan to pay off my credit cards, leaving me ...</td>\n",
       "      <td>debt_consolidation</td>\n",
       "      <td>Melinda Holster</td>\n",
       "      <td>233xx</td>\n",
       "      <td>VA</td>\n",
       "      <td>5.24</td>\n",
       "      <td>0</td>\n",
       "      <td>1994-04-01</td>\n",
       "      <td>0</td>\n",
       "      <td>0.0</td>\n",
       "      <td>0.0</td>\n",
       "      <td>9</td>\n",
       "      <td>0</td>\n",
       "      <td>4767</td>\n",
       "      <td>8.7</td>\n",
       "      <td>22</td>\n",
       "      <td>f</td>\n",
       "      <td>0.0</td>\n",
       "      <td>0.0</td>\n",
       "      <td>11239.620890</td>\n",
       "      <td>1380.00</td>\n",
       "      <td>9999.99</td>\n",
       "      <td>1239.63</td>\n",
       "      <td>0.0</td>\n",
       "      <td>0.0</td>\n",
       "      <td>0.0</td>\n",
       "      <td>2011-02-01</td>\n",
       "      <td>313.59</td>\n",
       "      <td>NaT</td>\n",
       "      <td>2011-01-01</td>\n",
       "      <td>0.0</td>\n",
       "      <td>NaN</td>\n",
       "      <td>1</td>\n",
       "      <td>INDIVIDUAL</td>\n",
       "      <td>NaN</td>\n",
       "      <td>NaN</td>\n",
       "      <td>NaN</td>\n",
       "      <td>0</td>\n",
       "      <td>NaN</td>\n",
       "      <td>NaN</td>\n",
       "      <td>NaN</td>\n",
       "      <td>NaN</td>\n",
       "      <td>NaN</td>\n",
       "      <td>NaN</td>\n",
       "      <td>NaN</td>\n",
       "      <td>NaN</td>\n",
       "      <td>NaN</td>\n",
       "      <td>NaN</td>\n",
       "      <td>NaN</td>\n",
       "      <td>NaN</td>\n",
       "      <td>NaN</td>\n",
       "      <td>NaN</td>\n",
       "      <td>NaN</td>\n",
       "      <td>NaN</td>\n",
       "      <td>NaN</td>\n",
       "      <td>NaN</td>\n",
       "      <td>NaN</td>\n",
       "      <td>NaN</td>\n",
       "      <td>NaN</td>\n",
       "      <td>0.0</td>\n",
       "      <td>0</td>\n",
       "      <td>NaN</td>\n",
       "      <td>NaN</td>\n",
       "      <td>NaN</td>\n",
       "      <td>NaN</td>\n",
       "      <td>NaN</td>\n",
       "      <td>NaN</td>\n",
       "      <td>NaN</td>\n",
       "      <td>NaN</td>\n",
       "      <td>NaN</td>\n",
       "      <td>NaN</td>\n",
       "      <td>NaN</td>\n",
       "      <td>NaN</td>\n",
       "      <td>NaN</td>\n",
       "      <td>NaN</td>\n",
       "      <td>NaN</td>\n",
       "      <td>NaN</td>\n",
       "      <td>NaN</td>\n",
       "      <td>NaN</td>\n",
       "      <td>NaN</td>\n",
       "      <td>NaN</td>\n",
       "      <td>NaN</td>\n",
       "      <td>NaN</td>\n",
       "      <td>NaN</td>\n",
       "      <td>NaN</td>\n",
       "      <td>NaN</td>\n",
       "      <td>NaN</td>\n",
       "      <td>0.0</td>\n",
       "      <td>NaN</td>\n",
       "      <td>NaN</td>\n",
       "      <td>NaN</td>\n",
       "      <td>NaN</td>\n",
       "    </tr>\n",
       "    <tr>\n",
       "      <th>39659</th>\n",
       "      <td>121568</td>\n",
       "      <td>121574</td>\n",
       "      <td>4000</td>\n",
       "      <td>4000</td>\n",
       "      <td>1925.00</td>\n",
       "      <td>36</td>\n",
       "      <td>9.64</td>\n",
       "      <td>128.41</td>\n",
       "      <td>B</td>\n",
       "      <td>B4</td>\n",
       "      <td>NaN</td>\n",
       "      <td>&lt; 1 year</td>\n",
       "      <td>NONE</td>\n",
       "      <td>100000.0</td>\n",
       "      <td>Not Verified</td>\n",
       "      <td>2007-08-01</td>\n",
       "      <td>Fully Paid</td>\n",
       "      <td>n</td>\n",
       "      <td>https://lendingclub.com/browse/loanDetail.acti...</td>\n",
       "      <td>I took a high interest loan from Citibank in 2...</td>\n",
       "      <td>other</td>\n",
       "      <td>Refinancing high interest loan</td>\n",
       "      <td>950xx</td>\n",
       "      <td>CA</td>\n",
       "      <td>15.00</td>\n",
       "      <td>0</td>\n",
       "      <td>1999-05-01</td>\n",
       "      <td>1</td>\n",
       "      <td>NaN</td>\n",
       "      <td>NaN</td>\n",
       "      <td>6</td>\n",
       "      <td>0</td>\n",
       "      <td>8155</td>\n",
       "      <td>14.9</td>\n",
       "      <td>8</td>\n",
       "      <td>f</td>\n",
       "      <td>0.0</td>\n",
       "      <td>0.0</td>\n",
       "      <td>4622.489229</td>\n",
       "      <td>2224.58</td>\n",
       "      <td>4000.00</td>\n",
       "      <td>622.49</td>\n",
       "      <td>0.0</td>\n",
       "      <td>0.0</td>\n",
       "      <td>0.0</td>\n",
       "      <td>2010-09-01</td>\n",
       "      <td>129.76</td>\n",
       "      <td>NaT</td>\n",
       "      <td>2007-08-01</td>\n",
       "      <td>NaN</td>\n",
       "      <td>NaN</td>\n",
       "      <td>1</td>\n",
       "      <td>INDIVIDUAL</td>\n",
       "      <td>NaN</td>\n",
       "      <td>NaN</td>\n",
       "      <td>NaN</td>\n",
       "      <td>0</td>\n",
       "      <td>NaN</td>\n",
       "      <td>NaN</td>\n",
       "      <td>NaN</td>\n",
       "      <td>NaN</td>\n",
       "      <td>NaN</td>\n",
       "      <td>NaN</td>\n",
       "      <td>NaN</td>\n",
       "      <td>NaN</td>\n",
       "      <td>NaN</td>\n",
       "      <td>NaN</td>\n",
       "      <td>NaN</td>\n",
       "      <td>NaN</td>\n",
       "      <td>NaN</td>\n",
       "      <td>NaN</td>\n",
       "      <td>NaN</td>\n",
       "      <td>NaN</td>\n",
       "      <td>NaN</td>\n",
       "      <td>NaN</td>\n",
       "      <td>NaN</td>\n",
       "      <td>NaN</td>\n",
       "      <td>NaN</td>\n",
       "      <td>NaN</td>\n",
       "      <td>0</td>\n",
       "      <td>NaN</td>\n",
       "      <td>NaN</td>\n",
       "      <td>NaN</td>\n",
       "      <td>NaN</td>\n",
       "      <td>NaN</td>\n",
       "      <td>NaN</td>\n",
       "      <td>NaN</td>\n",
       "      <td>NaN</td>\n",
       "      <td>NaN</td>\n",
       "      <td>NaN</td>\n",
       "      <td>NaN</td>\n",
       "      <td>NaN</td>\n",
       "      <td>NaN</td>\n",
       "      <td>NaN</td>\n",
       "      <td>NaN</td>\n",
       "      <td>NaN</td>\n",
       "      <td>NaN</td>\n",
       "      <td>NaN</td>\n",
       "      <td>NaN</td>\n",
       "      <td>NaN</td>\n",
       "      <td>NaN</td>\n",
       "      <td>NaN</td>\n",
       "      <td>NaN</td>\n",
       "      <td>NaN</td>\n",
       "      <td>NaN</td>\n",
       "      <td>NaN</td>\n",
       "      <td>NaN</td>\n",
       "      <td>NaN</td>\n",
       "      <td>NaN</td>\n",
       "      <td>NaN</td>\n",
       "      <td>NaN</td>\n",
       "    </tr>\n",
       "    <tr>\n",
       "      <th>39660</th>\n",
       "      <td>121535</td>\n",
       "      <td>121373</td>\n",
       "      <td>2800</td>\n",
       "      <td>2800</td>\n",
       "      <td>1625.00</td>\n",
       "      <td>36</td>\n",
       "      <td>8.70</td>\n",
       "      <td>88.65</td>\n",
       "      <td>B</td>\n",
       "      <td>B1</td>\n",
       "      <td>NaN</td>\n",
       "      <td>&lt; 1 year</td>\n",
       "      <td>NONE</td>\n",
       "      <td>120000.0</td>\n",
       "      <td>Not Verified</td>\n",
       "      <td>2007-08-01</td>\n",
       "      <td>Fully Paid</td>\n",
       "      <td>n</td>\n",
       "      <td>https://lendingclub.com/browse/loanDetail.acti...</td>\n",
       "      <td>The family is expanding in October and we are ...</td>\n",
       "      <td>other</td>\n",
       "      <td>Baby is coming</td>\n",
       "      <td>024xx</td>\n",
       "      <td>MA</td>\n",
       "      <td>15.00</td>\n",
       "      <td>0</td>\n",
       "      <td>1999-05-01</td>\n",
       "      <td>1</td>\n",
       "      <td>NaN</td>\n",
       "      <td>NaN</td>\n",
       "      <td>6</td>\n",
       "      <td>0</td>\n",
       "      <td>8155</td>\n",
       "      <td>14.9</td>\n",
       "      <td>8</td>\n",
       "      <td>f</td>\n",
       "      <td>0.0</td>\n",
       "      <td>0.0</td>\n",
       "      <td>3191.218575</td>\n",
       "      <td>1852.05</td>\n",
       "      <td>2800.00</td>\n",
       "      <td>391.22</td>\n",
       "      <td>0.0</td>\n",
       "      <td>0.0</td>\n",
       "      <td>0.0</td>\n",
       "      <td>2010-09-01</td>\n",
       "      <td>89.80</td>\n",
       "      <td>NaT</td>\n",
       "      <td>2007-08-01</td>\n",
       "      <td>NaN</td>\n",
       "      <td>NaN</td>\n",
       "      <td>1</td>\n",
       "      <td>INDIVIDUAL</td>\n",
       "      <td>NaN</td>\n",
       "      <td>NaN</td>\n",
       "      <td>NaN</td>\n",
       "      <td>0</td>\n",
       "      <td>NaN</td>\n",
       "      <td>NaN</td>\n",
       "      <td>NaN</td>\n",
       "      <td>NaN</td>\n",
       "      <td>NaN</td>\n",
       "      <td>NaN</td>\n",
       "      <td>NaN</td>\n",
       "      <td>NaN</td>\n",
       "      <td>NaN</td>\n",
       "      <td>NaN</td>\n",
       "      <td>NaN</td>\n",
       "      <td>NaN</td>\n",
       "      <td>NaN</td>\n",
       "      <td>NaN</td>\n",
       "      <td>NaN</td>\n",
       "      <td>NaN</td>\n",
       "      <td>NaN</td>\n",
       "      <td>NaN</td>\n",
       "      <td>NaN</td>\n",
       "      <td>NaN</td>\n",
       "      <td>NaN</td>\n",
       "      <td>NaN</td>\n",
       "      <td>0</td>\n",
       "      <td>NaN</td>\n",
       "      <td>NaN</td>\n",
       "      <td>NaN</td>\n",
       "      <td>NaN</td>\n",
       "      <td>NaN</td>\n",
       "      <td>NaN</td>\n",
       "      <td>NaN</td>\n",
       "      <td>NaN</td>\n",
       "      <td>NaN</td>\n",
       "      <td>NaN</td>\n",
       "      <td>NaN</td>\n",
       "      <td>NaN</td>\n",
       "      <td>NaN</td>\n",
       "      <td>NaN</td>\n",
       "      <td>NaN</td>\n",
       "      <td>NaN</td>\n",
       "      <td>NaN</td>\n",
       "      <td>NaN</td>\n",
       "      <td>NaN</td>\n",
       "      <td>NaN</td>\n",
       "      <td>NaN</td>\n",
       "      <td>NaN</td>\n",
       "      <td>NaN</td>\n",
       "      <td>NaN</td>\n",
       "      <td>NaN</td>\n",
       "      <td>NaN</td>\n",
       "      <td>NaN</td>\n",
       "      <td>NaN</td>\n",
       "      <td>NaN</td>\n",
       "      <td>NaN</td>\n",
       "      <td>NaN</td>\n",
       "    </tr>\n",
       "  </tbody>\n",
       "</table>\n",
       "</div>"
      ],
      "text/plain": [
       "           id member_id  loan_amnt  funded_amnt  funded_amnt_inv  term  \\\n",
       "39318  231321    214993      10000        10000          1228.06    36   \n",
       "39659  121568    121574       4000         4000          1925.00    36   \n",
       "39660  121535    121373       2800         2800          1625.00    36   \n",
       "\n",
       "       int_rate  installment grade sub_grade emp_title emp_length  \\\n",
       "39318      7.75       312.22     A        A3       ups    5 years   \n",
       "39659      9.64       128.41     B        B4       NaN   < 1 year   \n",
       "39660      8.70        88.65     B        B1       NaN   < 1 year   \n",
       "\n",
       "      home_ownership  annual_inc verification_status    issue_d loan_status  \\\n",
       "39318           NONE     22200.0        Not Verified 2008-01-01  Fully Paid   \n",
       "39659           NONE    100000.0        Not Verified 2007-08-01  Fully Paid   \n",
       "39660           NONE    120000.0        Not Verified 2007-08-01  Fully Paid   \n",
       "\n",
       "      pymnt_plan                                                url  \\\n",
       "39318          n  https://lendingclub.com/browse/loanDetail.acti...   \n",
       "39659          n  https://lendingclub.com/browse/loanDetail.acti...   \n",
       "39660          n  https://lendingclub.com/browse/loanDetail.acti...   \n",
       "\n",
       "                                                    desc             purpose  \\\n",
       "39318  I plan to pay off my credit cards, leaving me ...  debt_consolidation   \n",
       "39659  I took a high interest loan from Citibank in 2...               other   \n",
       "39660  The family is expanding in October and we are ...               other   \n",
       "\n",
       "                                title zip_code addr_state    dti  delinq_2yrs  \\\n",
       "39318                 Melinda Holster    233xx         VA   5.24            0   \n",
       "39659  Refinancing high interest loan    950xx         CA  15.00            0   \n",
       "39660                  Baby is coming    024xx         MA  15.00            0   \n",
       "\n",
       "      earliest_cr_line  inq_last_6mths  mths_since_last_delinq  \\\n",
       "39318       1994-04-01               0                     0.0   \n",
       "39659       1999-05-01               1                     NaN   \n",
       "39660       1999-05-01               1                     NaN   \n",
       "\n",
       "       mths_since_last_record  open_acc  pub_rec  revol_bal  revol_util  \\\n",
       "39318                     0.0         9        0       4767         8.7   \n",
       "39659                     NaN         6        0       8155        14.9   \n",
       "39660                     NaN         6        0       8155        14.9   \n",
       "\n",
       "       total_acc initial_list_status  out_prncp  out_prncp_inv   total_pymnt  \\\n",
       "39318         22                   f        0.0            0.0  11239.620890   \n",
       "39659          8                   f        0.0            0.0   4622.489229   \n",
       "39660          8                   f        0.0            0.0   3191.218575   \n",
       "\n",
       "       total_pymnt_inv  total_rec_prncp  total_rec_int  total_rec_late_fee  \\\n",
       "39318          1380.00          9999.99        1239.63                 0.0   \n",
       "39659          2224.58          4000.00         622.49                 0.0   \n",
       "39660          1852.05          2800.00         391.22                 0.0   \n",
       "\n",
       "       recoveries  collection_recovery_fee last_pymnt_d  last_pymnt_amnt  \\\n",
       "39318         0.0                      0.0   2011-02-01           313.59   \n",
       "39659         0.0                      0.0   2010-09-01           129.76   \n",
       "39660         0.0                      0.0   2010-09-01            89.80   \n",
       "\n",
       "      next_pymnt_d last_credit_pull_d  collections_12_mths_ex_med  \\\n",
       "39318          NaT         2011-01-01                         0.0   \n",
       "39659          NaT         2007-08-01                         NaN   \n",
       "39660          NaT         2007-08-01                         NaN   \n",
       "\n",
       "       mths_since_last_major_derog  policy_code application_type  \\\n",
       "39318                          NaN            1       INDIVIDUAL   \n",
       "39659                          NaN            1       INDIVIDUAL   \n",
       "39660                          NaN            1       INDIVIDUAL   \n",
       "\n",
       "       annual_inc_joint  dti_joint  verification_status_joint  acc_now_delinq  \\\n",
       "39318               NaN        NaN                        NaN               0   \n",
       "39659               NaN        NaN                        NaN               0   \n",
       "39660               NaN        NaN                        NaN               0   \n",
       "\n",
       "       tot_coll_amt  tot_cur_bal  open_acc_6m  open_il_6m  open_il_12m  \\\n",
       "39318           NaN          NaN          NaN         NaN          NaN   \n",
       "39659           NaN          NaN          NaN         NaN          NaN   \n",
       "39660           NaN          NaN          NaN         NaN          NaN   \n",
       "\n",
       "       open_il_24m  mths_since_rcnt_il  total_bal_il  il_util  open_rv_12m  \\\n",
       "39318          NaN                 NaN           NaN      NaN          NaN   \n",
       "39659          NaN                 NaN           NaN      NaN          NaN   \n",
       "39660          NaN                 NaN           NaN      NaN          NaN   \n",
       "\n",
       "       open_rv_24m  max_bal_bc  all_util  total_rev_hi_lim  inq_fi  \\\n",
       "39318          NaN         NaN       NaN               NaN     NaN   \n",
       "39659          NaN         NaN       NaN               NaN     NaN   \n",
       "39660          NaN         NaN       NaN               NaN     NaN   \n",
       "\n",
       "       total_cu_tl  inq_last_12m  acc_open_past_24mths  avg_cur_bal  \\\n",
       "39318          NaN           NaN                   NaN          NaN   \n",
       "39659          NaN           NaN                   NaN          NaN   \n",
       "39660          NaN           NaN                   NaN          NaN   \n",
       "\n",
       "       bc_open_to_buy  bc_util  chargeoff_within_12_mths  delinq_amnt  \\\n",
       "39318             NaN      NaN                       0.0            0   \n",
       "39659             NaN      NaN                       NaN            0   \n",
       "39660             NaN      NaN                       NaN            0   \n",
       "\n",
       "       mo_sin_old_il_acct  mo_sin_old_rev_tl_op  mo_sin_rcnt_rev_tl_op  \\\n",
       "39318                 NaN                   NaN                    NaN   \n",
       "39659                 NaN                   NaN                    NaN   \n",
       "39660                 NaN                   NaN                    NaN   \n",
       "\n",
       "       mo_sin_rcnt_tl  mort_acc  mths_since_recent_bc  \\\n",
       "39318             NaN       NaN                   NaN   \n",
       "39659             NaN       NaN                   NaN   \n",
       "39660             NaN       NaN                   NaN   \n",
       "\n",
       "       mths_since_recent_bc_dlq  mths_since_recent_inq  \\\n",
       "39318                       NaN                    NaN   \n",
       "39659                       NaN                    NaN   \n",
       "39660                       NaN                    NaN   \n",
       "\n",
       "       mths_since_recent_revol_delinq  num_accts_ever_120_pd  num_actv_bc_tl  \\\n",
       "39318                             NaN                    NaN             NaN   \n",
       "39659                             NaN                    NaN             NaN   \n",
       "39660                             NaN                    NaN             NaN   \n",
       "\n",
       "       num_actv_rev_tl  num_bc_sats  num_bc_tl  num_il_tl  num_op_rev_tl  \\\n",
       "39318              NaN          NaN        NaN        NaN            NaN   \n",
       "39659              NaN          NaN        NaN        NaN            NaN   \n",
       "39660              NaN          NaN        NaN        NaN            NaN   \n",
       "\n",
       "       num_rev_accts  num_rev_tl_bal_gt_0  num_sats  num_tl_120dpd_2m  \\\n",
       "39318            NaN                  NaN       NaN               NaN   \n",
       "39659            NaN                  NaN       NaN               NaN   \n",
       "39660            NaN                  NaN       NaN               NaN   \n",
       "\n",
       "       num_tl_30dpd  num_tl_90g_dpd_24m  num_tl_op_past_12m  pct_tl_nvr_dlq  \\\n",
       "39318           NaN                 NaN                 NaN             NaN   \n",
       "39659           NaN                 NaN                 NaN             NaN   \n",
       "39660           NaN                 NaN                 NaN             NaN   \n",
       "\n",
       "       percent_bc_gt_75  pub_rec_bankruptcies  tax_liens  tot_hi_cred_lim  \\\n",
       "39318               NaN                   NaN        0.0              NaN   \n",
       "39659               NaN                   NaN        NaN              NaN   \n",
       "39660               NaN                   NaN        NaN              NaN   \n",
       "\n",
       "       total_bal_ex_mort  total_bc_limit  total_il_high_credit_limit  \n",
       "39318                NaN             NaN                         NaN  \n",
       "39659                NaN             NaN                         NaN  \n",
       "39660                NaN             NaN                         NaN  "
      ]
     },
     "execution_count": 24,
     "metadata": {},
     "output_type": "execute_result"
    }
   ],
   "source": [
    "# In home ownership column we have None for home ownership, which shouldn't be there\n",
    "# As there is no specific factor to determine the home ownership\n",
    "pd.set_option('display.max_columns', 200)\n",
    "df[df.home_ownership=='NONE']"
   ]
  },
  {
   "cell_type": "code",
   "execution_count": 25,
   "metadata": {},
   "outputs": [
    {
     "data": {
      "text/plain": [
       "RENT        18899\n",
       "MORTGAGE    17659\n",
       "OWN          3058\n",
       "OTHER         101\n",
       "Name: home_ownership, dtype: int64"
      ]
     },
     "execution_count": 25,
     "metadata": {},
     "output_type": "execute_result"
    }
   ],
   "source": [
    "# RENT and MORTGAGE are near equals, so filling missing value with these are difficult\n",
    "# So, choosing OTHER as home ownership is wise in this situation\n",
    "df.home_ownership = df.home_ownership.apply(lambda x: \"OTHER\" if x == \"NONE\" else x)\n",
    "\n",
    "# again checking the home ownership column \n",
    "df.home_ownership.value_counts()"
   ]
  },
  {
   "cell_type": "code",
   "execution_count": 26,
   "metadata": {},
   "outputs": [
    {
     "data": {
      "text/plain": [
       "Not Verified       16921\n",
       "Verified           12809\n",
       "Source Verified     9987\n",
       "Name: verification_status, dtype: int64"
      ]
     },
     "execution_count": 26,
     "metadata": {},
     "output_type": "execute_result"
    }
   ],
   "source": [
    "df.verification_status.value_counts(dropna=False)"
   ]
  },
  {
   "cell_type": "code",
   "execution_count": 27,
   "metadata": {},
   "outputs": [
    {
     "data": {
      "text/plain": [
       "Fully Paid     32950\n",
       "Charged Off     5627\n",
       "Current         1140\n",
       "Name: loan_status, dtype: int64"
      ]
     },
     "execution_count": 27,
     "metadata": {},
     "output_type": "execute_result"
    }
   ],
   "source": [
    "df.loan_status.value_counts(dropna=False)"
   ]
  },
  {
   "cell_type": "markdown",
   "metadata": {},
   "source": [
    "# Data Cleaning & Handling missing values\n",
    "\n",
    "### Removing empty columns"
   ]
  },
  {
   "cell_type": "code",
   "execution_count": 28,
   "metadata": {},
   "outputs": [
    {
     "data": {
      "text/plain": [
       "id                                    0\n",
       "member_id                             0\n",
       "loan_amnt                             0\n",
       "funded_amnt                           0\n",
       "funded_amnt_inv                       0\n",
       "term                                  0\n",
       "int_rate                              0\n",
       "installment                           0\n",
       "grade                                 0\n",
       "sub_grade                             0\n",
       "emp_title                          2459\n",
       "emp_length                         1075\n",
       "home_ownership                        0\n",
       "annual_inc                            0\n",
       "verification_status                   0\n",
       "issue_d                               0\n",
       "loan_status                           0\n",
       "pymnt_plan                            0\n",
       "url                                   0\n",
       "desc                              12940\n",
       "purpose                               0\n",
       "title                                11\n",
       "zip_code                              0\n",
       "addr_state                            0\n",
       "dti                                   0\n",
       "delinq_2yrs                           0\n",
       "earliest_cr_line                      0\n",
       "inq_last_6mths                        0\n",
       "mths_since_last_delinq            25682\n",
       "mths_since_last_record            36931\n",
       "open_acc                              0\n",
       "pub_rec                               0\n",
       "revol_bal                             0\n",
       "revol_util                           50\n",
       "total_acc                             0\n",
       "initial_list_status                   0\n",
       "out_prncp                             0\n",
       "out_prncp_inv                         0\n",
       "total_pymnt                           0\n",
       "total_pymnt_inv                       0\n",
       "total_rec_prncp                       0\n",
       "total_rec_int                         0\n",
       "total_rec_late_fee                    0\n",
       "recoveries                            0\n",
       "collection_recovery_fee               0\n",
       "last_pymnt_d                         71\n",
       "last_pymnt_amnt                       0\n",
       "next_pymnt_d                      38577\n",
       "last_credit_pull_d                    2\n",
       "collections_12_mths_ex_med           56\n",
       "mths_since_last_major_derog       39717\n",
       "policy_code                           0\n",
       "application_type                      0\n",
       "annual_inc_joint                  39717\n",
       "dti_joint                         39717\n",
       "verification_status_joint         39717\n",
       "acc_now_delinq                        0\n",
       "tot_coll_amt                      39717\n",
       "tot_cur_bal                       39717\n",
       "open_acc_6m                       39717\n",
       "open_il_6m                        39717\n",
       "open_il_12m                       39717\n",
       "open_il_24m                       39717\n",
       "mths_since_rcnt_il                39717\n",
       "total_bal_il                      39717\n",
       "il_util                           39717\n",
       "open_rv_12m                       39717\n",
       "open_rv_24m                       39717\n",
       "max_bal_bc                        39717\n",
       "all_util                          39717\n",
       "total_rev_hi_lim                  39717\n",
       "inq_fi                            39717\n",
       "total_cu_tl                       39717\n",
       "inq_last_12m                      39717\n",
       "acc_open_past_24mths              39717\n",
       "avg_cur_bal                       39717\n",
       "bc_open_to_buy                    39717\n",
       "bc_util                           39717\n",
       "chargeoff_within_12_mths             56\n",
       "delinq_amnt                           0\n",
       "mo_sin_old_il_acct                39717\n",
       "mo_sin_old_rev_tl_op              39717\n",
       "mo_sin_rcnt_rev_tl_op             39717\n",
       "mo_sin_rcnt_tl                    39717\n",
       "mort_acc                          39717\n",
       "mths_since_recent_bc              39717\n",
       "mths_since_recent_bc_dlq          39717\n",
       "mths_since_recent_inq             39717\n",
       "mths_since_recent_revol_delinq    39717\n",
       "num_accts_ever_120_pd             39717\n",
       "num_actv_bc_tl                    39717\n",
       "num_actv_rev_tl                   39717\n",
       "num_bc_sats                       39717\n",
       "num_bc_tl                         39717\n",
       "num_il_tl                         39717\n",
       "num_op_rev_tl                     39717\n",
       "num_rev_accts                     39717\n",
       "num_rev_tl_bal_gt_0               39717\n",
       "num_sats                          39717\n",
       "num_tl_120dpd_2m                  39717\n",
       "num_tl_30dpd                      39717\n",
       "num_tl_90g_dpd_24m                39717\n",
       "num_tl_op_past_12m                39717\n",
       "pct_tl_nvr_dlq                    39717\n",
       "percent_bc_gt_75                  39717\n",
       "pub_rec_bankruptcies                697\n",
       "tax_liens                            39\n",
       "tot_hi_cred_lim                   39717\n",
       "total_bal_ex_mort                 39717\n",
       "total_bc_limit                    39717\n",
       "total_il_high_credit_limit        39717\n",
       "dtype: int64"
      ]
     },
     "execution_count": 28,
     "metadata": {},
     "output_type": "execute_result"
    }
   ],
   "source": [
    "# checking number of empty cells in a column\n",
    "df.isnull().sum()"
   ]
  },
  {
   "cell_type": "code",
   "execution_count": 29,
   "metadata": {},
   "outputs": [
    {
     "data": {
      "text/plain": [
       "(39717, 57)"
      ]
     },
     "execution_count": 29,
     "metadata": {},
     "output_type": "execute_result"
    }
   ],
   "source": [
    "# There are total of 39717 records in the dataset\n",
    "# if we abserved above data which consist of number of null values in a column\n",
    "# we can see that some of the columns are completely empty, which are not usable for analysis, so dropping the column\n",
    "df = df.dropna(axis=1, how='all')\n",
    "df.shape"
   ]
  },
  {
   "cell_type": "code",
   "execution_count": 30,
   "metadata": {
    "scrolled": true
   },
   "outputs": [
    {
     "data": {
      "text/plain": [
       "(39717, 54)"
      ]
     },
     "execution_count": 30,
     "metadata": {},
     "output_type": "execute_result"
    }
   ],
   "source": [
    "# dropping columns with huge missing records\n",
    "df = df.drop(axis=1, columns=['next_pymnt_d', 'mths_since_last_delinq', 'mths_since_last_record', 'next_pymnt_d'])\n",
    "df.shape"
   ]
  },
  {
   "cell_type": "markdown",
   "metadata": {},
   "source": [
    "### Checking single value column in the dataset which are not usable in Analysis"
   ]
  },
  {
   "cell_type": "code",
   "execution_count": 31,
   "metadata": {},
   "outputs": [
    {
     "data": {
      "text/plain": [
       "n    39717\n",
       "Name: pymnt_plan, dtype: int64"
      ]
     },
     "execution_count": 31,
     "metadata": {},
     "output_type": "execute_result"
    }
   ],
   "source": [
    "df.pymnt_plan.value_counts(dropna=False)"
   ]
  },
  {
   "cell_type": "code",
   "execution_count": 32,
   "metadata": {},
   "outputs": [
    {
     "data": {
      "text/plain": [
       "f    39717\n",
       "Name: initial_list_status, dtype: int64"
      ]
     },
     "execution_count": 32,
     "metadata": {},
     "output_type": "execute_result"
    }
   ],
   "source": [
    "df.initial_list_status.value_counts(dropna=False)"
   ]
  },
  {
   "cell_type": "code",
   "execution_count": 33,
   "metadata": {},
   "outputs": [
    {
     "data": {
      "text/plain": [
       "0.0    39661\n",
       "NaN       56\n",
       "Name: collections_12_mths_ex_med, dtype: int64"
      ]
     },
     "execution_count": 33,
     "metadata": {},
     "output_type": "execute_result"
    }
   ],
   "source": [
    "df.collections_12_mths_ex_med.value_counts(dropna=False)\n"
   ]
  },
  {
   "cell_type": "code",
   "execution_count": 34,
   "metadata": {},
   "outputs": [
    {
     "data": {
      "text/plain": [
       "1    39717\n",
       "Name: policy_code, dtype: int64"
      ]
     },
     "execution_count": 34,
     "metadata": {},
     "output_type": "execute_result"
    }
   ],
   "source": [
    "df.policy_code.value_counts(dropna=False)"
   ]
  },
  {
   "cell_type": "code",
   "execution_count": 35,
   "metadata": {},
   "outputs": [
    {
     "data": {
      "text/plain": [
       "0    39717\n",
       "Name: acc_now_delinq, dtype: int64"
      ]
     },
     "execution_count": 35,
     "metadata": {},
     "output_type": "execute_result"
    }
   ],
   "source": [
    "df.acc_now_delinq.value_counts(dropna=False)"
   ]
  },
  {
   "cell_type": "code",
   "execution_count": 36,
   "metadata": {},
   "outputs": [
    {
     "data": {
      "text/plain": [
       "0.0    39661\n",
       "NaN       56\n",
       "Name: chargeoff_within_12_mths, dtype: int64"
      ]
     },
     "execution_count": 36,
     "metadata": {},
     "output_type": "execute_result"
    }
   ],
   "source": [
    "df.chargeoff_within_12_mths.value_counts(dropna=False)"
   ]
  },
  {
   "cell_type": "code",
   "execution_count": 37,
   "metadata": {},
   "outputs": [
    {
     "data": {
      "text/plain": [
       "0    39717\n",
       "Name: delinq_amnt, dtype: int64"
      ]
     },
     "execution_count": 37,
     "metadata": {},
     "output_type": "execute_result"
    }
   ],
   "source": [
    "df.delinq_amnt.value_counts(dropna=False)"
   ]
  },
  {
   "cell_type": "code",
   "execution_count": 38,
   "metadata": {},
   "outputs": [
    {
     "data": {
      "text/plain": [
       "0.0    39678\n",
       "NaN       39\n",
       "Name: tax_liens, dtype: int64"
      ]
     },
     "execution_count": 38,
     "metadata": {},
     "output_type": "execute_result"
    }
   ],
   "source": [
    "df.tax_liens.value_counts(dropna=False)"
   ]
  },
  {
   "cell_type": "code",
   "execution_count": 39,
   "metadata": {},
   "outputs": [
    {
     "data": {
      "text/plain": [
       "INDIVIDUAL    39717\n",
       "Name: application_type, dtype: int64"
      ]
     },
     "execution_count": 39,
     "metadata": {},
     "output_type": "execute_result"
    }
   ],
   "source": [
    "df.application_type.value_counts(dropna=False)"
   ]
  },
  {
   "cell_type": "code",
   "execution_count": 40,
   "metadata": {},
   "outputs": [
    {
     "data": {
      "text/plain": [
       "(39717, 45)"
      ]
     },
     "execution_count": 40,
     "metadata": {},
     "output_type": "execute_result"
    }
   ],
   "source": [
    "df = df.drop(axis=1, columns=['pymnt_plan', 'initial_list_status', 'collections_12_mths_ex_med', 'policy_code', \n",
    "                              'acc_now_delinq', 'chargeoff_within_12_mths', 'delinq_amnt', 'tax_liens', 'application_type'])\n",
    "df.shape"
   ]
  },
  {
   "cell_type": "code",
   "execution_count": 41,
   "metadata": {},
   "outputs": [
    {
     "data": {
      "text/plain": [
       "id                             0\n",
       "member_id                      0\n",
       "loan_amnt                      0\n",
       "funded_amnt                    0\n",
       "funded_amnt_inv                0\n",
       "term                           0\n",
       "int_rate                       0\n",
       "installment                    0\n",
       "grade                          0\n",
       "sub_grade                      0\n",
       "emp_title                   2459\n",
       "emp_length                  1075\n",
       "home_ownership                 0\n",
       "annual_inc                     0\n",
       "verification_status            0\n",
       "issue_d                        0\n",
       "loan_status                    0\n",
       "url                            0\n",
       "desc                       12940\n",
       "purpose                        0\n",
       "title                         11\n",
       "zip_code                       0\n",
       "addr_state                     0\n",
       "dti                            0\n",
       "delinq_2yrs                    0\n",
       "earliest_cr_line               0\n",
       "inq_last_6mths                 0\n",
       "open_acc                       0\n",
       "pub_rec                        0\n",
       "revol_bal                      0\n",
       "revol_util                    50\n",
       "total_acc                      0\n",
       "out_prncp                      0\n",
       "out_prncp_inv                  0\n",
       "total_pymnt                    0\n",
       "total_pymnt_inv                0\n",
       "total_rec_prncp                0\n",
       "total_rec_int                  0\n",
       "total_rec_late_fee             0\n",
       "recoveries                     0\n",
       "collection_recovery_fee        0\n",
       "last_pymnt_d                  71\n",
       "last_pymnt_amnt                0\n",
       "last_credit_pull_d             2\n",
       "pub_rec_bankruptcies         697\n",
       "dtype: int64"
      ]
     },
     "execution_count": 41,
     "metadata": {},
     "output_type": "execute_result"
    }
   ],
   "source": [
    "df.isnull().sum()"
   ]
  },
  {
   "cell_type": "code",
   "execution_count": 42,
   "metadata": {},
   "outputs": [
    {
     "data": {
      "text/plain": [
       "count       37258\n",
       "unique      28820\n",
       "top       US Army\n",
       "freq          134\n",
       "Name: emp_title, dtype: object"
      ]
     },
     "execution_count": 42,
     "metadata": {},
     "output_type": "execute_result"
    }
   ],
   "source": [
    "df.emp_title.describe()"
   ]
  },
  {
   "cell_type": "code",
   "execution_count": 43,
   "metadata": {},
   "outputs": [
    {
     "data": {
      "text/plain": [
       "0"
      ]
     },
     "execution_count": 43,
     "metadata": {},
     "output_type": "execute_result"
    }
   ],
   "source": [
    "# Filling missing emp_title as Others\n",
    "df.emp_title = df.emp_title.fillna(\"Others\")\n",
    "df.emp_title.isnull().sum()"
   ]
  },
  {
   "cell_type": "code",
   "execution_count": 44,
   "metadata": {
    "scrolled": true
   },
   "outputs": [
    {
     "data": {
      "text/plain": [
       "10+ years    8879\n",
       "< 1 year     4583\n",
       "2 years      4388\n",
       "3 years      4095\n",
       "4 years      3436\n",
       "5 years      3282\n",
       "1 year       3240\n",
       "6 years      2229\n",
       "7 years      1773\n",
       "8 years      1479\n",
       "9 years      1258\n",
       "NaN          1075\n",
       "Name: emp_length, dtype: int64"
      ]
     },
     "execution_count": 44,
     "metadata": {},
     "output_type": "execute_result"
    }
   ],
   "source": [
    "df.emp_length.value_counts(dropna=False)"
   ]
  },
  {
   "cell_type": "code",
   "execution_count": 45,
   "metadata": {
    "scrolled": true
   },
   "outputs": [
    {
     "data": {
      "text/plain": [
       "'10+ years'"
      ]
     },
     "execution_count": 45,
     "metadata": {},
     "output_type": "execute_result"
    }
   ],
   "source": [
    "df.emp_length.mode()[0]"
   ]
  },
  {
   "cell_type": "code",
   "execution_count": 46,
   "metadata": {
    "scrolled": true
   },
   "outputs": [
    {
     "data": {
      "text/plain": [
       "10+ years    9954\n",
       "< 1 year     4583\n",
       "2 years      4388\n",
       "3 years      4095\n",
       "4 years      3436\n",
       "5 years      3282\n",
       "1 year       3240\n",
       "6 years      2229\n",
       "7 years      1773\n",
       "8 years      1479\n",
       "9 years      1258\n",
       "Name: emp_length, dtype: int64"
      ]
     },
     "execution_count": 46,
     "metadata": {},
     "output_type": "execute_result"
    }
   ],
   "source": [
    "df.emp_length = df.emp_length.fillna(df.emp_length.mode()[0])\n",
    "df.emp_length.value_counts(dropna=False)"
   ]
  },
  {
   "cell_type": "code",
   "execution_count": 47,
   "metadata": {},
   "outputs": [
    {
     "data": {
      "text/plain": [
       "0"
      ]
     },
     "execution_count": 47,
     "metadata": {},
     "output_type": "execute_result"
    }
   ],
   "source": [
    "# in desc column there 12940, this is near 1/3rd of records\n",
    "# so, imputing new value to the column as Others\n",
    "df.desc = df.desc.fillna(\"Others\")\n",
    "df.desc.isnull().sum()"
   ]
  },
  {
   "cell_type": "code",
   "execution_count": 48,
   "metadata": {
    "scrolled": false
   },
   "outputs": [
    {
     "data": {
      "text/plain": [
       "Debt Consolidation         2184\n",
       "Debt Consolidation Loan    1729\n",
       "Personal Loan               659\n",
       "Consolidation               517\n",
       "debt consolidation          505\n",
       "                           ... \n",
       "SaraW                         1\n",
       "re-model bathroom             1\n",
       "JM                            1\n",
       "Scooter loan                  1\n",
       "bluegreen payoff              1\n",
       "Name: title, Length: 19615, dtype: int64"
      ]
     },
     "execution_count": 48,
     "metadata": {},
     "output_type": "execute_result"
    }
   ],
   "source": [
    "df.title.value_counts()"
   ]
  },
  {
   "cell_type": "markdown",
   "metadata": {},
   "source": [
    "* By abserving above title column value, there seems to be same value but different case and spelling differ\n",
    "\n",
    "* So, we can replace other values with Dept Consolidation in title column"
   ]
  },
  {
   "cell_type": "code",
   "execution_count": 49,
   "metadata": {
    "scrolled": true
   },
   "outputs": [
    {
     "data": {
      "text/plain": [
       "count                  39706\n",
       "unique                 19615\n",
       "top       Debt Consolidation\n",
       "freq                    2184\n",
       "Name: title, dtype: object"
      ]
     },
     "execution_count": 49,
     "metadata": {},
     "output_type": "execute_result"
    }
   ],
   "source": [
    "# updating the existing value using lambda function\n",
    "df.title = df.title.apply(lambda x: 'Debt Consolidation' if str(x).lower().find('Consolid')!= -1 else x)\n",
    "# checking the title column again\n",
    "df.title.describe()"
   ]
  },
  {
   "cell_type": "code",
   "execution_count": 50,
   "metadata": {
    "scrolled": true
   },
   "outputs": [
    {
     "data": {
      "text/plain": [
       "'Debt Consolidation'"
      ]
     },
     "execution_count": 50,
     "metadata": {},
     "output_type": "execute_result"
    }
   ],
   "source": [
    "df.title.mode()[0]"
   ]
  },
  {
   "cell_type": "markdown",
   "metadata": {},
   "source": [
    "As we can see, Debt Consolidation there are 10150 records out of 30k+ records <br>\n",
    "So, imputing the missing 11 values with **Debt Consolidation**"
   ]
  },
  {
   "cell_type": "code",
   "execution_count": 51,
   "metadata": {},
   "outputs": [
    {
     "data": {
      "text/plain": [
       "0"
      ]
     },
     "execution_count": 51,
     "metadata": {},
     "output_type": "execute_result"
    }
   ],
   "source": [
    "# filling null value with Debt Consolidation\n",
    "df.title = df.title.fillna(df.title.mode()[0])\n",
    "# Checking null values in the title columnm\n",
    "df.title.isnull().sum()"
   ]
  },
  {
   "cell_type": "code",
   "execution_count": 52,
   "metadata": {},
   "outputs": [
    {
     "data": {
      "text/plain": [
       "0.0    37339\n",
       "1.0     1674\n",
       "NaN      697\n",
       "2.0        7\n",
       "Name: pub_rec_bankruptcies, dtype: int64"
      ]
     },
     "execution_count": 52,
     "metadata": {},
     "output_type": "execute_result"
    }
   ],
   "source": [
    "# Number of public record bankruptcies field is an affective field for analysis\n",
    "df.pub_rec_bankruptcies.value_counts(dropna=False)"
   ]
  },
  {
   "cell_type": "code",
   "execution_count": 53,
   "metadata": {},
   "outputs": [
    {
     "data": {
      "text/plain": [
       "0.0    38036\n",
       "1.0     1674\n",
       "2.0        7\n",
       "Name: pub_rec_bankruptcies, dtype: int64"
      ]
     },
     "execution_count": 53,
     "metadata": {},
     "output_type": "execute_result"
    }
   ],
   "source": [
    "# imputing the null values in pub_rec_bankruptcies column with 0.0 as it has 95% records\n",
    "df.pub_rec_bankruptcies = df.pub_rec_bankruptcies.fillna(0.0)\n",
    "df.pub_rec_bankruptcies.value_counts(dropna=False)"
   ]
  },
  {
   "cell_type": "markdown",
   "metadata": {},
   "source": [
    "> There are 50 missing values in revol_util column <br>\n",
    "> as revol_util is a numeric type, so considering the median value to fill the missing records\n"
   ]
  },
  {
   "cell_type": "code",
   "execution_count": 54,
   "metadata": {},
   "outputs": [
    {
     "data": {
      "text/plain": [
       "49"
      ]
     },
     "execution_count": 54,
     "metadata": {},
     "output_type": "execute_result"
    }
   ],
   "source": [
    "# checking the median of the revol_util column\n",
    "round(df.revol_util.median())"
   ]
  },
  {
   "cell_type": "code",
   "execution_count": 55,
   "metadata": {},
   "outputs": [
    {
     "data": {
      "text/plain": [
       "0"
      ]
     },
     "execution_count": 55,
     "metadata": {},
     "output_type": "execute_result"
    }
   ],
   "source": [
    "# imputing the median in missing value\n",
    "df.revol_util = df.revol_util.fillna(df.revol_util.median())\n",
    "# checking the missing value count in revol_util columm\n",
    "df.revol_util.isnull().sum()"
   ]
  },
  {
   "cell_type": "code",
   "execution_count": 56,
   "metadata": {},
   "outputs": [
    {
     "data": {
      "text/plain": [
       "May          4285\n",
       "March        3761\n",
       "December     3512\n",
       "October      3271\n",
       "August       3242\n",
       "July         3226\n",
       "February     3211\n",
       "April        3204\n",
       "January      3041\n",
       "September    3015\n",
       "November     2945\n",
       "June         2933\n",
       "Name: last_pymnt_d, dtype: int64"
      ]
     },
     "execution_count": 56,
     "metadata": {},
     "output_type": "execute_result"
    }
   ],
   "source": [
    "import calendar\n",
    "df[~df.last_pymnt_d.isnull()].last_pymnt_d.apply(lambda x: calendar.month_name[int(x.month)]).value_counts()"
   ]
  },
  {
   "cell_type": "markdown",
   "metadata": {},
   "source": [
    "> as we can see, all the values are near similar"
   ]
  },
  {
   "cell_type": "code",
   "execution_count": 57,
   "metadata": {},
   "outputs": [
    {
     "data": {
      "text/plain": [
       "Charged Off    71\n",
       "Name: loan_status, dtype: int64"
      ]
     },
     "execution_count": 57,
     "metadata": {},
     "output_type": "execute_result"
    }
   ],
   "source": [
    "df[df.last_pymnt_d.isnull()].loan_status.value_counts()"
   ]
  },
  {
   "cell_type": "markdown",
   "metadata": {},
   "source": [
    "> As we can see all the customers with missing last_pymt_d are defaulters <br>\n",
    "> So, imputing missing value here might be an effect as well as dropping also might loss of data <br>\n",
    "> converting type from date to string and introducing LastPay_NA to replace missing value"
   ]
  },
  {
   "cell_type": "code",
   "execution_count": 58,
   "metadata": {},
   "outputs": [],
   "source": [
    "df.last_pymnt_d = df.last_pymnt_d.apply(lambda x: calendar.month_name[int(x.month)] if pd.notna(x) else 'LastPay_NA' )"
   ]
  },
  {
   "cell_type": "code",
   "execution_count": 59,
   "metadata": {
    "scrolled": true
   },
   "outputs": [
    {
     "data": {
      "text/plain": [
       "count                   39715\n",
       "unique                    106\n",
       "top       2016-05-01 00:00:00\n",
       "freq                    10308\n",
       "first     2007-05-01 00:00:00\n",
       "last      2016-05-01 00:00:00\n",
       "Name: last_credit_pull_d, dtype: object"
      ]
     },
     "execution_count": 59,
     "metadata": {},
     "output_type": "execute_result"
    }
   ],
   "source": [
    "df.last_credit_pull_d.describe()"
   ]
  },
  {
   "cell_type": "markdown",
   "metadata": {},
   "source": [
    "> As we can see that 2016-05-01 is repeated 10308 times in last_credit_pull_d column, which is 1/3 of total records <br>\n",
    "> there are only 2 records missing in the same column <br> \n",
    "> so, imputing the value at missing values"
   ]
  },
  {
   "cell_type": "code",
   "execution_count": 60,
   "metadata": {},
   "outputs": [
    {
     "data": {
      "text/plain": [
       "0"
      ]
     },
     "execution_count": 60,
     "metadata": {},
     "output_type": "execute_result"
    }
   ],
   "source": [
    "df.last_credit_pull_d = df.last_credit_pull_d.fillna('2016-05-01 00:00:00')\n",
    "df.last_credit_pull_d.isnull().sum()"
   ]
  },
  {
   "cell_type": "code",
   "execution_count": 61,
   "metadata": {
    "scrolled": true
   },
   "outputs": [
    {
     "data": {
      "text/plain": [
       "id                         0\n",
       "member_id                  0\n",
       "loan_amnt                  0\n",
       "funded_amnt                0\n",
       "funded_amnt_inv            0\n",
       "term                       0\n",
       "int_rate                   0\n",
       "installment                0\n",
       "grade                      0\n",
       "sub_grade                  0\n",
       "emp_title                  0\n",
       "emp_length                 0\n",
       "home_ownership             0\n",
       "annual_inc                 0\n",
       "verification_status        0\n",
       "issue_d                    0\n",
       "loan_status                0\n",
       "url                        0\n",
       "desc                       0\n",
       "purpose                    0\n",
       "title                      0\n",
       "zip_code                   0\n",
       "addr_state                 0\n",
       "dti                        0\n",
       "delinq_2yrs                0\n",
       "earliest_cr_line           0\n",
       "inq_last_6mths             0\n",
       "open_acc                   0\n",
       "pub_rec                    0\n",
       "revol_bal                  0\n",
       "revol_util                 0\n",
       "total_acc                  0\n",
       "out_prncp                  0\n",
       "out_prncp_inv              0\n",
       "total_pymnt                0\n",
       "total_pymnt_inv            0\n",
       "total_rec_prncp            0\n",
       "total_rec_int              0\n",
       "total_rec_late_fee         0\n",
       "recoveries                 0\n",
       "collection_recovery_fee    0\n",
       "last_pymnt_d               0\n",
       "last_pymnt_amnt            0\n",
       "last_credit_pull_d         0\n",
       "pub_rec_bankruptcies       0\n",
       "dtype: int64"
      ]
     },
     "execution_count": 61,
     "metadata": {},
     "output_type": "execute_result"
    }
   ],
   "source": [
    "# checking the missing values again\n",
    "df.isnull().sum()"
   ]
  },
  {
   "cell_type": "code",
   "execution_count": 62,
   "metadata": {
    "scrolled": true
   },
   "outputs": [
    {
     "data": {
      "text/plain": [
       "(39717, 45)"
      ]
     },
     "execution_count": 62,
     "metadata": {},
     "output_type": "execute_result"
    }
   ],
   "source": [
    "# checking number of records\n",
    "df.shape"
   ]
  },
  {
   "cell_type": "code",
   "execution_count": 63,
   "metadata": {},
   "outputs": [
    {
     "data": {
      "text/plain": [
       "id                                 object\n",
       "member_id                          object\n",
       "loan_amnt                           int64\n",
       "funded_amnt                         int64\n",
       "funded_amnt_inv                   float64\n",
       "term                                int64\n",
       "int_rate                          float64\n",
       "installment                       float64\n",
       "grade                              object\n",
       "sub_grade                          object\n",
       "emp_title                          object\n",
       "emp_length                         object\n",
       "home_ownership                     object\n",
       "annual_inc                        float64\n",
       "verification_status                object\n",
       "issue_d                    datetime64[ns]\n",
       "loan_status                        object\n",
       "url                                object\n",
       "desc                               object\n",
       "purpose                            object\n",
       "title                              object\n",
       "zip_code                           object\n",
       "addr_state                         object\n",
       "dti                               float64\n",
       "delinq_2yrs                         int64\n",
       "earliest_cr_line           datetime64[ns]\n",
       "inq_last_6mths                      int64\n",
       "open_acc                            int64\n",
       "pub_rec                             int64\n",
       "revol_bal                           int64\n",
       "revol_util                        float64\n",
       "total_acc                           int64\n",
       "out_prncp                         float64\n",
       "out_prncp_inv                     float64\n",
       "total_pymnt                       float64\n",
       "total_pymnt_inv                   float64\n",
       "total_rec_prncp                   float64\n",
       "total_rec_int                     float64\n",
       "total_rec_late_fee                float64\n",
       "recoveries                        float64\n",
       "collection_recovery_fee           float64\n",
       "last_pymnt_d                       object\n",
       "last_pymnt_amnt                   float64\n",
       "last_credit_pull_d                 object\n",
       "pub_rec_bankruptcies              float64\n",
       "dtype: object"
      ]
     },
     "execution_count": 63,
     "metadata": {},
     "output_type": "execute_result"
    }
   ],
   "source": [
    "df.dtypes"
   ]
  },
  {
   "cell_type": "markdown",
   "metadata": {},
   "source": [
    "# Checking the outliers"
   ]
  },
  {
   "cell_type": "code",
   "execution_count": 64,
   "metadata": {},
   "outputs": [
    {
     "data": {
      "image/png": "[encoded data removed]",
      "text/plain": [
       "<Figure size 432x288 with 1 Axes>"
      ]
     },
     "metadata": {
      "needs_background": "light"
     },
     "output_type": "display_data"
    }
   ],
   "source": [
    "df.loan_amnt.plot.box()\n",
    "plt.show()"
   ]
  },
  {
   "cell_type": "code",
   "execution_count": 65,
   "metadata": {},
   "outputs": [
    {
     "name": "stdout",
     "output_type": "stream",
     "text": [
      "lower inner fence -8750.0\n",
      "upper inner fence 29250.0\n"
     ]
    }
   ],
   "source": [
    "q3 = df.loan_amnt.quantile(.75)\n",
    "q1 = df.loan_amnt.quantile(.25)\n",
    "iqr = q3-q1\n",
    "low = q1-1.5*iqr\n",
    "high = q3+1.5*iqr\n",
    "\n",
    "print(f\"lower inner fence {low}\")\n",
    "print(f'upper inner fence {high}')"
   ]
  },
  {
   "cell_type": "markdown",
   "metadata": {},
   "source": [
    "> as we can see the lower inner fence is a negative value <br>\n",
    "> So, we can ignore the lower fence outliers <br>\n",
    "> lets check the upper fence outliers"
   ]
  },
  {
   "cell_type": "code",
   "execution_count": 66,
   "metadata": {
    "scrolled": false
   },
   "outputs": [
    {
     "data": {
      "text/plain": [
       "(1230, 45)"
      ]
     },
     "execution_count": 66,
     "metadata": {},
     "output_type": "execute_result"
    }
   ],
   "source": [
    "# checking number of records in outside the upper fence\n",
    "df[df.loan_amnt>high].shape"
   ]
  },
  {
   "cell_type": "code",
   "execution_count": 67,
   "metadata": {},
   "outputs": [
    {
     "data": {
      "text/plain": [
       "Fully Paid     843\n",
       "Charged Off    253\n",
       "Current        134\n",
       "Name: loan_status, dtype: int64"
      ]
     },
     "execution_count": 67,
     "metadata": {},
     "output_type": "execute_result"
    }
   ],
   "source": [
    "df[df.loan_amnt>high].loan_status.value_counts()"
   ]
  },
  {
   "cell_type": "markdown",
   "metadata": {},
   "source": [
    "> As we can see there are 1230 records as outliers <br>\n",
    "> so, dropping these values for better analysis"
   ]
  },
  {
   "cell_type": "code",
   "execution_count": 68,
   "metadata": {},
   "outputs": [
    {
     "data": {
      "text/plain": [
       "(38487, 45)"
      ]
     },
     "execution_count": 68,
     "metadata": {},
     "output_type": "execute_result"
    }
   ],
   "source": [
    "df = df[df.loan_amnt<=high]\n",
    "df.shape"
   ]
  },
  {
   "cell_type": "code",
   "execution_count": 69,
   "metadata": {},
   "outputs": [
    {
     "data": {
      "image/png": "[encoded data removed]",
      "text/plain": [
       "<Figure size 432x288 with 1 Axes>"
      ]
     },
     "metadata": {
      "needs_background": "light"
     },
     "output_type": "display_data"
    }
   ],
   "source": [
    "df.funded_amnt.plot.box()\n",
    "plt.show()"
   ]
  },
  {
   "cell_type": "markdown",
   "metadata": {},
   "source": [
    "> there are outliers in funded_amnt column <br>\n",
    "> lets look into the lower and upper fence"
   ]
  },
  {
   "cell_type": "code",
   "execution_count": 70,
   "metadata": {},
   "outputs": [
    {
     "name": "stdout",
     "output_type": "stream",
     "text": [
      "lower inner fence -9100.0\n",
      "upper inner fence 28500.0\n"
     ]
    }
   ],
   "source": [
    "q3 = df.funded_amnt.quantile(.75)\n",
    "q1 = df.funded_amnt.quantile(.25)\n",
    "iqr = q3-q1\n",
    "low = q1-1.5*iqr\n",
    "high = q3+1.5*iqr\n",
    "\n",
    "print(f\"lower inner fence {low}\")\n",
    "print(f'upper inner fence {high}')"
   ]
  },
  {
   "cell_type": "code",
   "execution_count": 71,
   "metadata": {},
   "outputs": [
    {
     "data": {
      "text/plain": [
       "(38453, 45)"
      ]
     },
     "execution_count": 71,
     "metadata": {},
     "output_type": "execute_result"
    }
   ],
   "source": [
    "df = df[df.funded_amnt<=high]\n",
    "df.shape"
   ]
  },
  {
   "cell_type": "code",
   "execution_count": 72,
   "metadata": {
    "scrolled": true
   },
   "outputs": [
    {
     "data": {
      "image/png": "[encoded data removed]",
      "text/plain": [
       "<Figure size 432x288 with 1 Axes>"
      ]
     },
     "metadata": {
      "needs_background": "light"
     },
     "output_type": "display_data"
    }
   ],
   "source": [
    "df.int_rate.plot.box()\n",
    "plt.show()"
   ]
  },
  {
   "cell_type": "code",
   "execution_count": 73,
   "metadata": {
    "scrolled": true
   },
   "outputs": [
    {
     "data": {
      "text/plain": [
       "count    38453.000000\n",
       "mean        11.896110\n",
       "std          3.645991\n",
       "min          5.420000\n",
       "25%          8.940000\n",
       "50%         11.710000\n",
       "75%         14.270000\n",
       "max         24.590000\n",
       "Name: int_rate, dtype: float64"
      ]
     },
     "execution_count": 73,
     "metadata": {},
     "output_type": "execute_result"
    }
   ],
   "source": [
    "df.int_rate.describe()"
   ]
  },
  {
   "cell_type": "code",
   "execution_count": 74,
   "metadata": {
    "scrolled": true
   },
   "outputs": [
    {
     "data": {
      "text/plain": [
       "18.25"
      ]
     },
     "execution_count": 74,
     "metadata": {},
     "output_type": "execute_result"
    }
   ],
   "source": [
    "df.int_rate.quantile(.95)"
   ]
  },
  {
   "cell_type": "markdown",
   "metadata": {},
   "source": [
    "> as we see now, 95th percentile is 18.25 and maximum value is 24.59\n",
    "> clearly there is a outlier"
   ]
  },
  {
   "cell_type": "code",
   "execution_count": 75,
   "metadata": {},
   "outputs": [
    {
     "name": "stdout",
     "output_type": "stream",
     "text": [
      "lower inner fence 0.9449999999999994\n",
      "upper inner fence 22.265\n"
     ]
    }
   ],
   "source": [
    "q3 = df.int_rate.quantile(.75)\n",
    "q1 = df.int_rate.quantile(.25)\n",
    "iqr = q3-q1\n",
    "low = q1-1.5*iqr\n",
    "high = q3+1.5*iqr\n",
    "\n",
    "print(f\"lower inner fence {low}\")\n",
    "print(f'upper inner fence {high}')"
   ]
  },
  {
   "cell_type": "code",
   "execution_count": 76,
   "metadata": {},
   "outputs": [
    {
     "data": {
      "text/plain": [
       "(38379, 45)"
      ]
     },
     "execution_count": 76,
     "metadata": {},
     "output_type": "execute_result"
    }
   ],
   "source": [
    "df = df[df.int_rate<=high]\n",
    "df.shape"
   ]
  },
  {
   "cell_type": "code",
   "execution_count": 77,
   "metadata": {},
   "outputs": [
    {
     "data": {
      "text/plain": [
       "count    38379.000000\n",
       "mean       307.114447\n",
       "std        186.194683\n",
       "min         15.690000\n",
       "25%        164.020000\n",
       "50%        272.650000\n",
       "75%        406.660000\n",
       "max       1021.000000\n",
       "Name: installment, dtype: float64"
      ]
     },
     "execution_count": 77,
     "metadata": {},
     "output_type": "execute_result"
    }
   ],
   "source": [
    "df.installment.describe()"
   ]
  },
  {
   "cell_type": "code",
   "execution_count": 78,
   "metadata": {
    "scrolled": true
   },
   "outputs": [
    {
     "name": "stdout",
     "output_type": "stream",
     "text": [
      "lower inner fence -199.94000000000003\n",
      "upper inner fence 770.6200000000001\n"
     ]
    }
   ],
   "source": [
    "q3 = df.installment.quantile(.75)\n",
    "q1 = df.installment.quantile(.25)\n",
    "iqr = q3-q1\n",
    "low = q1-1.5*iqr\n",
    "high = q3+1.5*iqr\n",
    "\n",
    "print(f\"lower inner fence {low}\")\n",
    "print(f'upper inner fence {high}')"
   ]
  },
  {
   "cell_type": "code",
   "execution_count": 79,
   "metadata": {},
   "outputs": [
    {
     "data": {
      "text/plain": [
       "(37289, 45)"
      ]
     },
     "execution_count": 79,
     "metadata": {},
     "output_type": "execute_result"
    }
   ],
   "source": [
    "df = df[df.installment<=high]\n",
    "df.shape"
   ]
  },
  {
   "cell_type": "markdown",
   "metadata": {},
   "source": [
    "> We have completed all the outliers in the dataset"
   ]
  },
  {
   "cell_type": "markdown",
   "metadata": {},
   "source": [
    "# Analysis"
   ]
  },
  {
   "cell_type": "markdown",
   "metadata": {},
   "source": [
    "## Univariate Analysis"
   ]
  },
  {
   "cell_type": "code",
   "execution_count": 95,
   "metadata": {
    "scrolled": true
   },
   "outputs": [
    {
     "data": {
      "image/png": "[encoded data removed]",
      "text/plain": [
       "<Figure size 432x288 with 1 Axes>"
      ]
     },
     "metadata": {
      "needs_background": "light"
     },
     "output_type": "display_data"
    }
   ],
   "source": [
    "sns.histplot(data=df.loan_amnt, bins=15)\n",
    "plt.title('Loan amount histogram')\n",
    "plt.show()"
   ]
  },
  {
   "cell_type": "markdown",
   "metadata": {},
   "source": [
    "As we can see the above histogram, that most of the loans are for 5000 & less proposals are for loan amount greater than 25000\n",
    "\n",
    "We can also observe that there is a constant increase towards 5000 and from there there is a irregular decreament "
   ]
  },
  {
   "cell_type": "code",
   "execution_count": 96,
   "metadata": {
    "scrolled": false
   },
   "outputs": [
    {
     "data": {
      "image/png": "[encoded data removed]",
      "text/plain": [
       "<Figure size 432x288 with 1 Axes>"
      ]
     },
     "metadata": {
      "needs_background": "light"
     },
     "output_type": "display_data"
    }
   ],
   "source": [
    "sns.histplot(data=df.funded_amnt, bins=15, kde=True)\n",
    "plt.title('Funded amount histogram')\n",
    "plt.show()"
   ]
  },
  {
   "cell_type": "markdown",
   "metadata": {},
   "source": [
    "we can observe that there is a constant increase of loans till 5000 and from there there is a decrease of number of loans (there are hikes, but still it's continue to decrease the number of loans)"
   ]
  },
  {
   "cell_type": "code",
   "execution_count": 102,
   "metadata": {
    "scrolled": true
   },
   "outputs": [
    {
     "data": {
      "image/png": "[encoded data removed]",
      "text/plain": [
       "<Figure size 432x288 with 1 Axes>"
      ]
     },
     "metadata": {
      "needs_background": "light"
     },
     "output_type": "display_data"
    }
   ],
   "source": [
    "sns.distplot(df.loan_amnt)\n",
    "plt.title('Loan Amount Distribution plot')\n",
    "plt.show()"
   ]
  },
  {
   "cell_type": "markdown",
   "metadata": {},
   "source": [
    "Now we can in the dist plot, we can see similar behavior as previous"
   ]
  },
  {
   "cell_type": "code",
   "execution_count": 103,
   "metadata": {},
   "outputs": [
    {
     "data": {
      "image/png": "[encoded data removed]",
      "text/plain": [
       "<Figure size 432x288 with 1 Axes>"
      ]
     },
     "metadata": {
      "needs_background": "light"
     },
     "output_type": "display_data"
    }
   ],
   "source": [
    "sns.distplot(df.funded_amnt)\n",
    "plt.title('Funded Amount Distribution plot')\n",
    "plt.show()"
   ]
  },
  {
   "cell_type": "code",
   "execution_count": 114,
   "metadata": {
    "scrolled": true
   },
   "outputs": [
    {
     "data": {
      "image/png": "[encoded data removed]",
      "text/plain": [
       "<Figure size 432x288 with 1 Axes>"
      ]
     },
     "metadata": {
      "needs_background": "light"
     },
     "output_type": "display_data"
    }
   ],
   "source": [
    "df.term.value_counts().plot.barh(x='freq of loans', y='term')\n",
    "plt.title('Term Bar graph')\n",
    "plt.show()"
   ]
  },
  {
   "cell_type": "markdown",
   "metadata": {},
   "source": [
    "as we can see that most of the loans are with term 36, which as more than twice as 60 term loans"
   ]
  },
  {
   "cell_type": "code",
   "execution_count": 119,
   "metadata": {
    "scrolled": false
   },
   "outputs": [
    {
     "data": {
      "image/png": "[encoded data removed]",
      "text/plain": [
       "<Figure size 432x288 with 1 Axes>"
      ]
     },
     "metadata": {
      "needs_background": "light"
     },
     "output_type": "display_data"
    }
   ],
   "source": [
    "sns.histplot(data=df.int_rate, bins=20)\n",
    "plt.title('Interest Rate - Histogram')\n",
    "plt.show()"
   ]
  },
  {
   "cell_type": "code",
   "execution_count": 120,
   "metadata": {},
   "outputs": [
    {
     "data": {
      "image/png": "[encoded data removed]",
      "text/plain": [
       "<Figure size 432x288 with 1 Axes>"
      ]
     },
     "metadata": {
      "needs_background": "light"
     },
     "output_type": "display_data"
    }
   ],
   "source": [
    "sns.distplot(df.int_rate)\n",
    "plt.title('Interest Rate - Distribution Plot')\n",
    "plt.show()"
   ]
  },
  {
   "cell_type": "code",
   "execution_count": 127,
   "metadata": {},
   "outputs": [],
   "source": [
    "df.to_csv('output.csv')"
   ]
  },
  {
   "cell_type": "code",
   "execution_count": 132,
   "metadata": {},
   "outputs": [
    {
     "data": {
      "image/png": "[encoded data removed]",
      "text/plain": [
       "<Figure size 720x720 with 1 Axes>"
      ]
     },
     "metadata": {
      "needs_background": "light"
     },
     "output_type": "display_data"
    }
   ],
   "source": [
    "plt.figure(figsize=[10,10])\n",
    "df.loan_amnt.plot.box()\n",
    "plt.show()"
   ]
  },
  {
   "cell_type": "code",
   "execution_count": 143,
   "metadata": {
    "scrolled": true
   },
   "outputs": [
    {
     "data": {
      "image/png": "[encoded data removed]",
      "text/plain": [
       "<Figure size 432x288 with 1 Axes>"
      ]
     },
     "metadata": {
      "needs_background": "light"
     },
     "output_type": "display_data"
    }
   ],
   "source": [
    "sns.boxplot(x=df.term, y=df.loan_amnt)\n",
    "plt.title('Term vs Loan Amount')\n",
    "plt.show()"
   ]
  },
  {
   "cell_type": "markdown",
   "metadata": {},
   "source": [
    "#### Observation\n",
    "* By observing above chart, we can see that for 60 months term the mean, 25th quantile and 75th quantiel are higher compare to 36 month term loan\n",
    "* 60 month 25th quantile to approximate to mean/50th quantile of 36 term loan\n",
    "* 60 month loan mean is higher than 75th quantitle of 36 term loan\n",
    "* 60 month loan upper fence is approximate to maximum loan amount for 36 term "
   ]
  },
  {
   "cell_type": "code",
   "execution_count": 144,
   "metadata": {
    "scrolled": true
   },
   "outputs": [
    {
     "data": {
      "image/png": "[encoded data removed]",
      "text/plain": [
       "<Figure size 432x288 with 1 Axes>"
      ]
     },
     "metadata": {
      "needs_background": "light"
     },
     "output_type": "display_data"
    }
   ],
   "source": [
    "sns.boxplot(x=df.term, y=df.funded_amnt)\n",
    "plt.title('Term vs Funded Amount')\n",
    "plt.show()"
   ]
  },
  {
   "cell_type": "markdown",
   "metadata": {},
   "source": [
    "#### observation\n",
    "* above plot is almost similar to term vs loan amount plot, except for the values for the upper fence"
   ]
  },
  {
   "cell_type": "code",
   "execution_count": null,
   "metadata": {},
   "outputs": [],
   "source": []
  },
  {
   "cell_type": "code",
   "execution_count": null,
   "metadata": {},
   "outputs": [],
   "source": []
  },
  {
   "cell_type": "code",
   "execution_count": null,
   "metadata": {},
   "outputs": [],
   "source": []
  },
  {
   "cell_type": "code",
   "execution_count": null,
   "metadata": {},
   "outputs": [],
   "source": []
  },
  {
   "cell_type": "code",
   "execution_count": 81,
   "metadata": {},
   "outputs": [
    {
     "data": {
      "image/png": "[encoded data removed]",
      "text/plain": [
       "<Figure size 1080x1080 with 2 Axes>"
      ]
     },
     "metadata": {
      "needs_background": "light"
     },
     "output_type": "display_data"
    }
   ],
   "source": [
    "plt.figure(figsize=[15,15])\n",
    "sns.heatmap(df.corr(), cmap=\"Greens\", annot=True)\n",
    "plt.show()"
   ]
  },
  {
   "cell_type": "markdown",
   "metadata": {},
   "source": [
    "## Bivariate Analysis"
   ]
  },
  {
   "cell_type": "markdown",
   "metadata": {},
   "source": [
    "df.funded_amnt_inv.plot.box()\n",
    "plt.show()"
   ]
  },
  {
   "cell_type": "markdown",
   "metadata": {},
   "source": [
    "df[df.funded_amnt_inv>30000].loan_status.value_counts()"
   ]
  },
  {
   "cell_type": "markdown",
   "metadata": {},
   "source": [
    "df[df.funded_amnt_inv<=30000].loan_status.value_counts()"
   ]
  },
  {
   "cell_type": "markdown",
   "metadata": {},
   "source": [
    "df[df.funded_amnt>30000].loan_status.value_counts()"
   ]
  },
  {
   "cell_type": "markdown",
   "metadata": {},
   "source": [
    "df.int_rate.plot.box()\n",
    "plt.show()"
   ]
  },
  {
   "cell_type": "markdown",
   "metadata": {},
   "source": [
    "df[df.int_rate>22.5].loan_status.value_counts()"
   ]
  },
  {
   "cell_type": "markdown",
   "metadata": {},
   "source": [
    "df[df.int_rate<22.5].loan_status.value_counts()"
   ]
  },
  {
   "cell_type": "markdown",
   "metadata": {},
   "source": [
    "df.pivot_table(columns=['sub_grade'], index='loan_status', aggfunc=np.sum)"
   ]
  },
  {
   "cell_type": "code",
   "execution_count": null,
   "metadata": {},
   "outputs": [],
   "source": []
  },
  {
   "cell_type": "code",
   "execution_count": null,
   "metadata": {},
   "outputs": [],
   "source": []
  }
 ],
 "metadata": {
  "interpreter": {
   "hash": "ac59ebe37160ed0dfa835113d9b8498d9f09ceb179beaac4002f036b9467c963"
  },
  "kernelspec": {
   "display_name": "Python 3",
   "language": "python",
   "name": "python3"
  },
  "language_info": {
   "codemirror_mode": {
    "name": "ipython",
    "version": 3
   },
   "file_extension": ".py",
   "mimetype": "text/x-python",
   "name": "python",
   "nbconvert_exporter": "python",
   "pygments_lexer": "ipython3",
   "version": "3.8.5"
  }
 },
 "nbformat": 4,
 "nbformat_minor": 4
}
